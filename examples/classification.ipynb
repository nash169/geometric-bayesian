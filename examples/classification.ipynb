{
 "cells": [
  {
   "cell_type": "code",
   "execution_count": null,
   "id": "5aa2c528-c090-43f7-8044-e2b59a0ebcd4",
   "metadata": {},
   "outputs": [],
   "source": [
    "%load_ext autoreload\n",
    "%autoreload 2\n",
    "    \n",
    "import os\n",
    "import sys\n",
    "import time\n",
    "import glob\n",
    "import gc\n",
    "\n",
    "import jax\n",
    "import jax.numpy as jnp\n",
    "from jax import grad, jit, vmap, random\n",
    "jax.config.update('jax_enable_x64', True)\n",
    "\n",
    "\n",
    "%matplotlib widget\n",
    "import matplotlib as mpl\n",
    "import matplotlib.pyplot as plt\n",
    "from mpl_toolkits.axes_grid1 import make_axes_locatable\n",
    "plt.rcParams['text.usetex'] = True\n",
    "plt.rcParams['font.family'] = 'Times'\n",
    "\n",
    "sys.path.insert(0, os.path.abspath(os.path.join('../')))\n",
    "sys.path.insert(0, os.path.abspath(os.path.join('../../laplax/')))"
   ]
  },
  {
   "cell_type": "markdown",
   "id": "334c7e85-edbd-41fd-9444-8634c83f4695",
   "metadata": {},
   "source": [
    "## Find MAP"
   ]
  },
  {
   "cell_type": "code",
   "execution_count": null,
   "id": "e66f7987-616d-4329-b659-f5a18aa0b676",
   "metadata": {},
   "outputs": [],
   "source": [
    "from geometric_bayesian.utils import DataLoader\n",
    "\n",
    "num_samples_1, num_samples_2 = 100, 100\n",
    "samples_c1 = jax.random.multivariate_normal(jax.random.key(0), jnp.array([-1,-1]), 0.2*jnp.eye(2), shape=(num_samples_1,))\n",
    "targets_c1 = jnp.zeros(num_samples_1)\n",
    "samples_c2 = jax.random.multivariate_normal(jax.random.key(0), jnp.array([1,1]), 0.2*jnp.eye(2), shape=(num_samples_2,))\n",
    "targets_c2 = jnp.ones(num_samples_2)\n",
    "\n",
    "samples = jnp.concatenate((samples_c1,samples_c2), axis=0)\n",
    "targets = jnp.concatenate((targets_c1,targets_c2))\n",
    "train_loader = DataLoader(samples, targets, 30, shuffle=True)"
   ]
  },
  {
   "cell_type": "code",
   "execution_count": null,
   "id": "9edd9d53-af1b-4d39-a563-74f87c7e49d7",
   "metadata": {},
   "outputs": [],
   "source": [
    "from geometric_bayesian.models import MLP\n",
    "model = MLP(\n",
    "    layers=[2,1],\n",
    "    use_bias=False,\n",
    "    param_dtype=jax.numpy.float64\n",
    ")\n",
    "num_params = model.size"
   ]
  },
  {
   "cell_type": "code",
   "execution_count": null,
   "id": "4ced6a4e-54c9-493d-b8b2-ae06b084075a",
   "metadata": {},
   "outputs": [],
   "source": [
    "from geometric_bayesian.densities import Bernoulli, MultivariateNormal\n",
    "from geometric_bayesian.functions.likelihood import neg_logll\n",
    "from geometric_bayesian.operators import DiagOperator\n",
    "\n",
    "p_ll = lambda f : Bernoulli(f, logits=True)\n",
    "prior_var = DiagOperator(\n",
    "    diag = jnp.array(10.), \n",
    "    dim = num_params\n",
    ")\n",
    "p_prior = MultivariateNormal(cov=prior_var)"
   ]
  },
  {
   "cell_type": "code",
   "execution_count": null,
   "id": "85d8d09b-8428-4599-a264-ccc756f8cb4c",
   "metadata": {},
   "outputs": [],
   "source": [
    "import optax\n",
    "from flax import nnx\n",
    "\n",
    "n_epochs = 1000\n",
    "step_size = 1e-3\n",
    "optimizer = nnx.Optimizer(model, optax.adam(step_size))\n",
    "\n",
    "def loss_fn(model, x, y):\n",
    "    y_pred = model(x)\n",
    "    return neg_logll(p_ll, y, y_pred) - p_prior(model.params)/y.shape[0]\n",
    "\n",
    "@nnx.jit\n",
    "def train_step(model, optimizer, x, y):\n",
    "    loss, grads = nnx.value_and_grad(loss_fn)(model, x, y)\n",
    "    optimizer.update(grads) \n",
    "    return loss"
   ]
  },
  {
   "cell_type": "code",
   "execution_count": null,
   "id": "75c1c391-7164-434a-8872-d3d89d12e7f1",
   "metadata": {},
   "outputs": [],
   "source": [
    "losses = []\n",
    "for epoch in range(n_epochs):\n",
    "    for x_tr, y_tr in train_loader:\n",
    "        losses.append(train_step(model, optimizer, x_tr, y_tr))\n",
    "\n",
    "    if epoch % 100 == 0:\n",
    "        print(f\"[epoch {epoch}]: loss: {losses[-1]:.4f}\")\n",
    "\n",
    "print(f'{optimizer.step.value = }')\n",
    "print(f\"Final loss: {losses[-1]:.4f}\")"
   ]
  },
  {
   "cell_type": "code",
   "execution_count": null,
   "id": "6e37229d-d9d0-4b1d-8d57-bd2808dea101",
   "metadata": {},
   "outputs": [],
   "source": [
    "from geometric_bayesian.utils.plot import contour_plot, surf_plot\n",
    "fig = contour_plot(lambda x: jax.nn.sigmoid(model(x)), min=[-3, -3], max=[3, 3], res=100, iso=False, alpha=0.5, zorder=-1, label='\\sigma(f(X))')\n",
    "ax = fig.axes[0]\n",
    "ax.scatter(samples_c1[:,0], samples_c1[:,1], label='class 1', color='green', alpha=0.5)\n",
    "ax.scatter(samples_c2[:,0], samples_c2[:,1], label='class 2', color='orange', alpha=0.5)\n",
    "ax.set_xlim([-3,3])\n",
    "ax.set_ylim([-3,3])\n",
    "ax.set_aspect('equal', 'box')\n",
    "ax.legend()"
   ]
  },
  {
   "cell_type": "code",
   "execution_count": null,
   "id": "92f3c0d4-6440-4ad7-a364-a0751e217920",
   "metadata": {},
   "outputs": [],
   "source": [
    "def loss(params):\n",
    "    return neg_logll(p_ll, targets, model.fwd_params()(samples, params)) - p_prior(params)/targets.shape[0]\n",
    "p_min, p_max = model.params-10, model.params+10\n",
    "fig = contour_plot(jax.vmap(loss), min=p_min, max=p_max, res=100, iso=True, alpha=0.5, zorder=-1, label=r'\\mathcal{L}(f,\\theta)')\n",
    "\n",
    "# fig = contour_plot(jax.vmap(loss), min=p_min, max=p_max, res=100, fig=None)\n",
    "ax = fig.axes[0]\n",
    "ax.scatter(*model.params)"
   ]
  },
  {
   "cell_type": "code",
   "execution_count": null,
   "id": "80962bc8-bdbb-42c9-be93-e2a8a22365a9",
   "metadata": {},
   "outputs": [],
   "source": [
    "fig = surf_plot(jax.vmap(loss), min=p_min, max=p_max, res=100)\n",
    "ax = fig.axes[0]\n",
    "ax.scatter(*jnp.append(model.params,loss(model.params)))"
   ]
  },
  {
   "cell_type": "markdown",
   "id": "8efaa92d-a1c9-41f8-a361-586e757fc50c",
   "metadata": {},
   "source": [
    "## Laplace Approximation"
   ]
  },
  {
   "cell_type": "code",
   "execution_count": null,
   "id": "74e09337-2c29-414e-8c21-39e74bef8605",
   "metadata": {},
   "outputs": [],
   "source": [
    "from geometric_bayesian.curv.ggn import ggn\n",
    "from geometric_bayesian.utils.helper import wrap_pytree_function\n",
    "from geometric_bayesian.operators.psd_operator import PSDOperator\n",
    "\n",
    "ggn_fn = wrap_pytree_function(\n",
    "    ggn(\n",
    "        p = p_ll,\n",
    "        f = model,\n",
    "        X = samples,\n",
    "        y = targets,\n",
    "        scaling = float(samples.shape[0])\n",
    "    ), \n",
    "    nnx.state(model)\n",
    ")\n",
    "ggn_lr = PSDOperator(lambda v : ggn_fn(model.params, v), op_size=num_params).lowrank(num_modes=num_params)\n",
    "cov_op = (ggn_lr + p_prior._cov.inverse()).inverse()\n",
    "posterior = MultivariateNormal(cov=cov_op, mean=model.params)"
   ]
  },
  {
   "cell_type": "code",
   "execution_count": null,
   "id": "31d742ff-e542-444f-affa-e4d98589d86d",
   "metadata": {},
   "outputs": [],
   "source": [
    "from geometric_bayesian.integrate import integrate, ef, ode23, ode45\n",
    "dt, T = 0.01, 5.0\n",
    "params_samples = posterior.sample(size=10)\n",
    "x0 = jnp.expand_dims(model.params, axis=0).repeat(params_samples.shape[1],axis=0)\n",
    "v0 = params_samples.T - x0"
   ]
  },
  {
   "cell_type": "code",
   "execution_count": null,
   "id": "fa14d210-bf0f-41b7-8838-f15b11f654a9",
   "metadata": {},
   "outputs": [],
   "source": [
    "from geometric_bayesian.approx.mc import pred_posterior_mean, pred_posterior_std, pred_posterior\n",
    "mean_fn = pred_posterior_mean(model, params_samples)\n",
    "std_fn = pred_posterior_std(model, params_samples)\n",
    "pred_posterior_fn = pred_posterior(model, params_samples, p_ll)"
   ]
  },
  {
   "cell_type": "code",
   "execution_count": null,
   "id": "2be475f8-0aa4-4ae2-8726-f4d45462f700",
   "metadata": {},
   "outputs": [],
   "source": [
    "from geometric_bayesian.utils.plot import contour_plot, surf_plot\n",
    "fig = contour_plot(mean_fn, min=[-3, -3], max=[3, 3], res=100, iso=False, alpha=0.5, zorder=-1, label=r'\\mu[p(y|f)]')\n",
    "ax = fig.axes[0]\n",
    "ax.scatter(samples_c1[:,0], samples_c1[:,1], label='class 1', color='green', alpha=0.5)\n",
    "ax.scatter(samples_c2[:,0], samples_c2[:,1], label='class 2', color='orange', alpha=0.5)\n",
    "ax.set_xlim([-3,3])\n",
    "ax.set_ylim([-3,3])\n",
    "ax.set_aspect('equal', 'box')\n",
    "ax.legend()"
   ]
  },
  {
   "cell_type": "code",
   "execution_count": null,
   "id": "b61bf3f3-0fb1-4613-b12d-3ae095273d97",
   "metadata": {},
   "outputs": [],
   "source": [
    "from geometric_bayesian.utils.plot import contour_plot, surf_plot\n",
    "fig = contour_plot(std_fn, min=[-3, -3], max=[3, 3], res=100, iso=False, alpha=0.5, zorder=-1, label=r'\\sigma[p(y|f)]')\n",
    "ax = fig.axes[0]\n",
    "ax.scatter(samples_c1[:,0], samples_c1[:,1], label='class 1', color='green', alpha=0.5)\n",
    "ax.scatter(samples_c2[:,0], samples_c2[:,1], label='class 2', color='orange', alpha=0.5)\n",
    "ax.set_xlim([-3,3])\n",
    "ax.set_ylim([-3,3])\n",
    "ax.set_aspect('equal', 'box')\n",
    "ax.legend()"
   ]
  },
  {
   "cell_type": "code",
   "execution_count": null,
   "id": "e44147c3-2395-4541-bc40-3a8fbd38e060",
   "metadata": {},
   "outputs": [],
   "source": [
    "from geometric_bayesian.utils.plot import contour_plot, surf_plot\n",
    "fig = contour_plot(std_fn, min=[-3, -3], max=[3, 3], res=100, iso=False, alpha=0.5, zorder=-1, label=r'\\sigma[p(y|f)]')\n",
    "ax = fig.axes[0]\n",
    "ax.scatter(samples_c1[:,0], samples_c1[:,1], label='class 1', color='green', alpha=0.5)\n",
    "ax.scatter(samples_c2[:,0], samples_c2[:,1], label='class 2', color='orange', alpha=0.5)\n",
    "ax.set_xlim([-3,3])\n",
    "ax.set_ylim([-3,3])\n",
    "ax.set_aspect('equal', 'box')\n",
    "ax.legend()"
   ]
  },
  {
   "cell_type": "markdown",
   "id": "6c3a694f-dd80-4288-9122-699418b08d52",
   "metadata": {},
   "source": [
    "## Pullback Embedding Geometry"
   ]
  },
  {
   "cell_type": "code",
   "execution_count": null,
   "id": "39ed6009-c246-485a-99e3-2d6a4869da50",
   "metadata": {},
   "outputs": [],
   "source": [
    "from geometric_bayesian.geom.embedding import pullmetric, christoffel_sk\n",
    "\n",
    "def embedding(x):\n",
    "    return jnp.array([*x, loss(x)])\n",
    "\n",
    "csk_pull = christoffel_sk(embedding)\n",
    "\n",
    "@jax.jit\n",
    "def dynamics_pull(t,x,u):\n",
    "    x1, x2 = jnp.split(x, 2)\n",
    "    return jnp.append(x2, -csk_pull(x1,x2))\n",
    "\n",
    "metric_pull = lambda x, v : pullmetric(embedding)(x, v)\n",
    "print(\"Metric at MAP:\", jax.lax.map(lambda v: metric_pull(model.params,v), jnp.eye(num_params)))"
   ]
  },
  {
   "cell_type": "code",
   "execution_count": null,
   "id": "4a77398c-e0d3-4229-85a7-166449ef19fb",
   "metadata": {},
   "outputs": [],
   "source": [
    "step = integrate(\n",
    "    f = dynamics_pull,\n",
    "    dt = dt,\n",
    "    T = T,\n",
    "    integrator = ode45,\n",
    ")\n",
    "\n",
    "start = time.time()\n",
    "trajectory_pull = jax.vmap(step)(jnp.hstack((x0, v0)))\n",
    "print(time.time() - start)"
   ]
  },
  {
   "cell_type": "code",
   "execution_count": null,
   "id": "ec5c6109-353f-4670-ba7a-8acd30bbef20",
   "metadata": {},
   "outputs": [],
   "source": [
    "fig = contour_plot(jax.vmap(loss), min=p_min, max=p_max, res=100, alpha=0.5, zorder=-1)\n",
    "ax = fig.axes[0]\n",
    "# for i in range(v0.shape[0]):\n",
    "#     traj = trajectory_pull[0][i]\n",
    "#     ax.plot(traj[:, 0], traj[:, 1], color=\"k\")\n",
    "ax.scatter(*model.params)\n",
    "ax.quiver(x0[:,0], x0[:,1], params_samples.T[:,0]- x0[:,0], params_samples.T[:,1]- x0[:,1])\n",
    "ax.scatter(params_samples.T[:,0], params_samples.T[:,1])"
   ]
  },
  {
   "cell_type": "code",
   "execution_count": null,
   "id": "bfba1c77-1584-4844-a41c-5414682cd5f9",
   "metadata": {},
   "outputs": [],
   "source": [
    "fig = surf_plot(jax.vmap(loss), min=p_min, max=p_max, res=100, fig=None)\n",
    "ax = fig.axes[0]\n",
    "ax.scatter(*jnp.append(model.params,loss(model.params)))\n",
    "for i in range(v0.shape[0]):\n",
    "    traj = trajectory_pull[0][i]\n",
    "    ax.plot(\n",
    "        traj[:, 0], \n",
    "        traj[:, 1],\n",
    "        jax.vmap(loss)(jnp.vstack((traj[:, 0], traj[:, 1])).T),\n",
    "        color=\"k\")"
   ]
  },
  {
   "cell_type": "markdown",
   "id": "97fd3bb1-f7e8-4708-9970-60e7823a0373",
   "metadata": {},
   "source": [
    "## GGN Metric Geometry"
   ]
  },
  {
   "cell_type": "code",
   "execution_count": null,
   "id": "9a7c3c65-81df-40b0-b9e8-13c9b2f3998c",
   "metadata": {},
   "outputs": [],
   "source": [
    "from geometric_bayesian.geom.metric import christoffel_sk\n",
    "\n",
    "csk_ggn = christoffel_sk(ggn_fn)\n",
    "@jax.jit\n",
    "def dynamics_ggn(t,x,u):\n",
    "    x1, x2 = jnp.split(x, 2)\n",
    "    return jnp.append(x2, -csk_ggn(x1,x2))\n",
    "\n",
    "print(\"Metric:\", jax.lax.map(lambda v : ggn_fn(model.params, v), jnp.eye(num_params)))\n",
    "D,U = jnp.linalg.eigh(jax.lax.map(lambda v : ggn_fn(model.params, v), jnp.eye(num_params)))\n",
    "print(\"Eigvals:\", D)\n",
    "print(\"Eigvecs:\", U)"
   ]
  },
  {
   "cell_type": "code",
   "execution_count": null,
   "id": "32f0fd96-11fe-4f13-af75-a89205620a5d",
   "metadata": {},
   "outputs": [],
   "source": [
    "step = integrate(\n",
    "    f = dynamics_ggn,\n",
    "    dt = dt,\n",
    "    T = 1.0,\n",
    "    integrator = ode45,\n",
    ")\n",
    "\n",
    "start = time.time()\n",
    "trajectory_ggn = jax.vmap(step, in_axes=0)(jnp.hstack((x0, v0)))\n",
    "print(time.time() - start)"
   ]
  },
  {
   "cell_type": "code",
   "execution_count": null,
   "id": "7bc80e9f-f7bc-47be-821f-cfc5ee938fff",
   "metadata": {},
   "outputs": [],
   "source": [
    "fig = contour_plot(jax.vmap(loss), min=p_min, max=p_max, res=100, alpha=0.5, zorder=-1)\n",
    "ax = fig.axes[0]\n",
    "for i in range(v0.shape[0]):\n",
    "    traj = trajectory_ggn[0][i]\n",
    "    ax.plot(traj[:, 0], traj[:, 1], color=\"k\")\n",
    "ax.scatter(*model.params)\n",
    "ax.quiver(x0[:,0], x0[:,1], params_samples.T[:,0]- x0[:,0], params_samples.T[:,1]- x0[:,1])\n",
    "ax.scatter(params_samples.T[:,0], params_samples.T[:,1])"
   ]
  },
  {
   "cell_type": "raw",
   "id": "ead84151-da95-47dd-8e4e-c0723ddcb953",
   "metadata": {},
   "source": [
    "def integrate(fn, grid_min, grid_max, res):\n",
    "    import numpy as np\n",
    "    dx = jnp.linspace(grid_min[0], grid_max[0], res)\n",
    "    dy = jnp.linspace(grid_min[1], grid_max[1], res)\n",
    "    x, y = jnp.meshgrid(dx, dy)\n",
    "    z = fn(jnp.vstack((x.ravel(), y.ravel())).transpose()).reshape(res, res)\n",
    "    return np.trapezoid(jnp.trapezoid(z, dy, axis=0), dx, axis=0)\n",
    "\n",
    "ll = lambda f : jax.vmap(lambda y, f: p_ll(f)(y), in_axes=(0,0))(y,f).sum()\n",
    "ll_log = lambda f : jax.vmap(lambda y, f: p_ll(f)._log(y), in_axes=(0,0))(y,f).sum()\n",
    "llXprior = jax.vmap(lambda p: ll(jax.nn.sigmoid(model_p(array_to_pytree(p, map_params))))*p_prior(p))\n",
    "llXprior_log = jax.vmap(lambda p: ll_log(model_p(array_to_pytree(p, map_params))) + p_prior._log(p))\n",
    "posterior = lambda p: llXprior_log(p) - jnp.log(integrate(llXprior, p_min, p_max, 100))\n",
    "\n",
    "fig = contour_plot(posterior, min=p_min, max=p_max, res=100, fig=None)\n",
    "ax = fig.axes[0]\n",
    "ax.scatter(map_p[0], map_p[1])"
   ]
  },
  {
   "cell_type": "raw",
   "id": "5000fe04-b0b2-4f21-bb90-5839b36ebe9f",
   "metadata": {},
   "source": [
    "from geometric_bayesian.geom.metric import christoffel_sk\n",
    "\n",
    "csk_ggn = christoffel_sk(ggn_fn)\n",
    "@jax.jit\n",
    "def dynamics_ggn(x,v):\n",
    "    return -csk_ggn(x,v)\n",
    "\n",
    "print(\"Metric:\", jax.lax.map(lambda v : ggn_fn(model.params, v), jnp.eye(num_params)))\n",
    "\n",
    "from geometric_bayesian.integrate.integrate import integrate\n",
    "from geometric_bayesian.integrate.euler_forward import euler_forward\n",
    "\n",
    "step = integrate(\n",
    "    f = dynamics_ggn,\n",
    "    dt = dt,\n",
    "    T = T,\n",
    "    integrator = euler_forward,\n",
    ")\n",
    "\n",
    "start = time.time()\n",
    "trajectory_ggn = jax.vmap(step, in_axes=(0,0))(x0,v0)\n",
    "print(time.time() - start)"
   ]
  }
 ],
 "metadata": {
  "kernelspec": {
   "display_name": "Python 3 (ipykernel)",
   "language": "python",
   "name": "python3"
  },
  "language_info": {
   "codemirror_mode": {
    "name": "ipython",
    "version": 3
   },
   "file_extension": ".py",
   "mimetype": "text/x-python",
   "name": "python",
   "nbconvert_exporter": "python",
   "pygments_lexer": "ipython3",
   "version": "3.11.13"
  }
 },
 "nbformat": 4,
 "nbformat_minor": 5
}
