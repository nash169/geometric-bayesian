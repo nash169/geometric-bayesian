{
 "cells": [
  {
   "cell_type": "code",
   "execution_count": null,
   "id": "97e7a7a0-499e-4bf0-9628-f223dffdbfda",
   "metadata": {
    "scrolled": true
   },
   "outputs": [],
   "source": [
    "%load_ext autoreload\n",
    "%autoreload\n",
    "import os\n",
    "import sys\n",
    "import jax\n",
    "import jax.numpy as jnp\n",
    "from flax import nnx\n",
    "import math\n",
    "\n",
    "%matplotlib widget\n",
    "import matplotlib as mpl\n",
    "import matplotlib.pyplot as plt\n",
    "from mpl_toolkits.axes_grid1 import make_axes_locatable\n",
    "    \n",
    "sys.path.insert(0, os.path.abspath(os.path.join('../')))\n",
    "from geometric_bayesian.models import MLP\n",
    "from geometric_bayesian.operators import DenseOperator, SymOperator, PSDOperator, DiagOperator\n",
    "from geometric_bayesian.densities import Normal, MultivariateNormal\n",
    "from geometric_bayesian.utils import DataLoader, contour_plot"
   ]
  },
  {
   "cell_type": "markdown",
   "id": "fa75f0e0-9874-45e1-a12b-5c8beb9bb862",
   "metadata": {
    "jp-MarkdownHeadingCollapsed": true
   },
   "source": [
    "### PSD Operator"
   ]
  },
  {
   "cell_type": "code",
   "execution_count": null,
   "id": "26bb64ca-13b6-4b1c-a230-81d77cdf7567",
   "metadata": {},
   "outputs": [],
   "source": [
    "size = 10\n",
    "rng_key = jax.random.key(0)\n",
    "sca = jax.random.uniform(rng_key, (1, ))\n",
    "vec = jax.random.uniform(rng_key, (size, ))\n",
    "mat = jax.random.uniform(rng_key, (size, size))"
   ]
  },
  {
   "cell_type": "code",
   "execution_count": null,
   "id": "d7e36d6e-cbb2-4d59-826c-645d17e1345d",
   "metadata": {},
   "outputs": [],
   "source": [
    "mat += mat.transpose() + size*jnp.eye(mat.shape[0])\n",
    "op = PSDOperator(\n",
    "    op=mat,\n",
    "    op_type='raw'\n",
    ")\n",
    "op_mv = PSDOperator(\n",
    "    op=lambda v : jnp.matmul(mat, v),\n",
    "    op_size=size\n",
    ")"
   ]
  },
  {
   "cell_type": "code",
   "execution_count": null,
   "id": "9195647a-012f-4f79-a931-98099be1be80",
   "metadata": {},
   "outputs": [],
   "source": [
    "print(\"dense\")\n",
    "print(jnp.matmul(mat,vec).tolist())\n",
    "print(\"op chol\")\n",
    "print(op(vec).tolist())\n",
    "print(\"op mv\")\n",
    "print(op_mv(vec).tolist())"
   ]
  },
  {
   "cell_type": "code",
   "execution_count": null,
   "id": "ac0050cb-ef02-430a-b658-a6cc6fe93318",
   "metadata": {},
   "outputs": [],
   "source": [
    "print(\"dense\")\n",
    "print(jnp.linalg.solve(mat, vec).tolist())\n",
    "print(\"op chol\")\n",
    "print(op.solve(vec).tolist())\n",
    "print(\"op mv\")\n",
    "print(op_mv.solve(vec).tolist())"
   ]
  },
  {
   "cell_type": "code",
   "execution_count": null,
   "id": "7aa08ef1-34de-4781-b3e3-329ba709eaa5",
   "metadata": {},
   "outputs": [],
   "source": [
    "print(\"dense\")\n",
    "print(jnp.linalg.eigh(mat)[0].tolist())\n",
    "print(\"op chol\")\n",
    "print(op.diagonalize(num_iterations=10, rng_key=rng_key).tolist())\n",
    "print(\"op mv\")\n",
    "print(op_mv.diagonalize(num_iterations=10, rng_key=rng_key).tolist())"
   ]
  },
  {
   "cell_type": "markdown",
   "id": "6219347b-4364-49c2-bb7c-9a0cdc5153d0",
   "metadata": {
    "jp-MarkdownHeadingCollapsed": true
   },
   "source": [
    "### Normal"
   ]
  },
  {
   "cell_type": "code",
   "execution_count": null,
   "id": "0cb5adf9-6b86-40a0-98b3-7bb1d1e3bb77",
   "metadata": {},
   "outputs": [],
   "source": [
    "mean = jnp.array(1.0)\n",
    "cov = jnp.array(1.0)\n",
    "pdf = Normal(mean, cov)\n",
    "x = jnp.linspace(-2, 4, 100)"
   ]
  },
  {
   "cell_type": "code",
   "execution_count": null,
   "id": "44f8129e-0a94-4bf0-a523-1d185e10a08b",
   "metadata": {},
   "outputs": [],
   "source": [
    "import matplotlib.pyplot as plt\n",
    "plt.plot(x, pdf(x))"
   ]
  },
  {
   "cell_type": "markdown",
   "id": "b7439575-61c7-4b19-a32b-59766f346bcf",
   "metadata": {
    "jp-MarkdownHeadingCollapsed": true
   },
   "source": [
    "### Multivariate Normal"
   ]
  },
  {
   "cell_type": "code",
   "execution_count": null,
   "id": "ce5e71ef-a8e5-4910-a401-ce773b76cef9",
   "metadata": {},
   "outputs": [],
   "source": [
    "mean = jnp.array([0.0, 0.0])\n",
    "# cov = jnp.array([1.0, 0.5])\n",
    "s, u = jnp.diag(jnp.array([1.0, 0.5])), jnp.array([[1.0, 1.0],[-1.0,1.0]])\n",
    "cov = PSDOperator(\n",
    "    op=jnp.matmul(u.transpose(), jnp.matmul(s,u)),\n",
    "    op_type='raw'\n",
    ")\n",
    "pdf = MultivariateNormal(mean, cov)"
   ]
  },
  {
   "cell_type": "code",
   "execution_count": null,
   "id": "d69e1e85-76f6-4126-a220-e2fbbbba1265",
   "metadata": {
    "scrolled": true
   },
   "outputs": [],
   "source": [
    "_ = contour_plot(pdf)"
   ]
  },
  {
   "cell_type": "markdown",
   "id": "1bd2273c-9068-4cee-afc0-8281a349c4fb",
   "metadata": {
    "jp-MarkdownHeadingCollapsed": true
   },
   "source": [
    "### GGN"
   ]
  },
  {
   "cell_type": "code",
   "execution_count": null,
   "id": "f3d16d78-66db-4e32-9dcc-264c588a5707",
   "metadata": {},
   "outputs": [],
   "source": [
    "model = MLP(\n",
    "    layers=[3, 64, 2],\n",
    "    rngs=nnx.Rngs(params=0),\n",
    "    prob_out=False,\n",
    ")"
   ]
  },
  {
   "cell_type": "code",
   "execution_count": null,
   "id": "3e8f3e8d-9ca9-4c78-8d05-00f2c6fb3e12",
   "metadata": {},
   "outputs": [],
   "source": [
    "rng_key = jax.random.key(0)\n",
    "train_samples = jax.random.uniform(rng_key, (10, model.shape[0]))\n",
    "train_targets = jax.random.uniform(rng_key, (10, model.shape[1]))\n",
    "\n",
    "graph_def, params = nnx.split(model)\n",
    "num_params = sum(x.size for x in jax.tree.leaves(params))"
   ]
  },
  {
   "cell_type": "code",
   "execution_count": null,
   "id": "c792779e-0fea-4152-87ba-d03cf29c823c",
   "metadata": {},
   "outputs": [],
   "source": [
    "from geometric_bayesian.curv.ggn import ggn\n",
    "ggn_mv = ggn(\n",
    "    p = lambda f: MultivariateNormal(f, DiagOperator(jnp.array(1.0), model.shape[1])),\n",
    "    f = model,\n",
    "    X = train_samples,\n",
    "    y = train_targets,\n",
    ")"
   ]
  },
  {
   "cell_type": "code",
   "execution_count": null,
   "id": "54566055-3b30-41a6-a420-f7c0db0bc333",
   "metadata": {},
   "outputs": [],
   "source": [
    "sys.path.insert(0, os.path.abspath(os.path.join('/home/bernardo/repos/laplax/')))\n",
    "from laplax.curv import create_ggn_mv\n",
    "from laplax.util.loader import input_target_split\n",
    "\n",
    "def model_fn(input,params):\n",
    "    return nnx.call((graph_def, params))(input)[0]\n",
    "    \n",
    "ggn_mv_test = create_ggn_mv(\n",
    "    model_fn,\n",
    "    params,\n",
    "    {\n",
    "        'input': train_samples,\n",
    "        'target': train_targets\n",
    "    },\n",
    "    loss_fn=\"mse\",\n",
    "    num_curv_samples=train_samples.shape[0],\n",
    "    num_total_samples=train_samples.shape[0] // 2,\n",
    ")"
   ]
  },
  {
   "cell_type": "code",
   "execution_count": null,
   "id": "2dfa94f7-7b51-412c-9237-6a2c32f47d10",
   "metadata": {
    "scrolled": true
   },
   "outputs": [],
   "source": [
    "ggn_mv(params, params)"
   ]
  },
  {
   "cell_type": "code",
   "execution_count": null,
   "id": "a665b43e-2637-4957-ba7f-78e2df62dbff",
   "metadata": {
    "scrolled": true
   },
   "outputs": [],
   "source": [
    "ggn_mv_test(params)"
   ]
  },
  {
   "cell_type": "code",
   "execution_count": null,
   "id": "97537823-1123-4690-b647-4e591a0c6ff1",
   "metadata": {
    "scrolled": true
   },
   "outputs": [],
   "source": [
    "from geometric_bayesian.utils.helper import wrap_pytree_function, pytree_to_array\n",
    "ggn_mv = wrap_pytree_function(ggn_mv, params)\n",
    "vec_params = pytree_to_array(params)\n",
    "jax.vmap(ggn_mv, in_axes=(None,0))(vec_params,jnp.eye(num_params))"
   ]
  },
  {
   "cell_type": "code",
   "execution_count": null,
   "id": "a1a03bf6-3dc4-4571-9707-0e45254a377f",
   "metadata": {},
   "outputs": [],
   "source": [
    "from laplax.curv.cov import create_posterior_fn, create_full_curvature\n",
    "from laplax.util.flatten import (\n",
    "    create_pytree_flattener,\n",
    "    wrap_factory,\n",
    "    wrap_function,\n",
    ")\n",
    "from laplax.util.mv import diagonal, to_dense\n",
    "from laplax.util.tree import get_size, eye_like\n",
    "\n",
    "flatten, unflatten = create_pytree_flattener(params)\n",
    "mv_wrapped = wrap_function(ggn_mv_test, input_fn=unflatten, output_fn=flatten)\n",
    "to_dense(mv_wrapped, layout=get_size(params))"
   ]
  },
  {
   "cell_type": "markdown",
   "id": "19bc7605-3573-429e-87c8-ef1aa1698dc2",
   "metadata": {
    "jp-MarkdownHeadingCollapsed": true
   },
   "source": [
    "### Embedded Geometry"
   ]
  },
  {
   "cell_type": "code",
   "execution_count": null,
   "id": "b962b061-7a9d-41e6-aa48-385c3e0ed6af",
   "metadata": {},
   "outputs": [],
   "source": [
    "def sphere_embedding(x, r=1.0):\n",
    "    return r*jnp.array([jnp.sin(x[0])*jnp.cos(x[1]), jnp.sin(x[0])*jnp.sin(x[1]), jnp.cos(x[0])])\n",
    "\n",
    "def surf_embedding(x):\n",
    "    return jnp.array([x[0], x[1], x[0]**2 + x[1]**2])\n",
    "\n",
    "def sphere_metric(x,r=1.0):\n",
    "    return jnp.array([[1.0, 0.0],[0.0, jnp.sin(x[0])**2]])*r**2"
   ]
  },
  {
   "cell_type": "code",
   "execution_count": null,
   "id": "4df7dc61-18cd-42b8-bfbb-1db126301763",
   "metadata": {},
   "outputs": [],
   "source": [
    "x = jnp.array([0.5,0.2])\n",
    "vi = jnp.array([0.1,0.3])\n",
    "vj = jnp.array([0.1,0.3]) # jnp.array([0.5,0.7])\n",
    "embedding = sphere_embedding\n",
    "metric = sphere_metric"
   ]
  },
  {
   "cell_type": "code",
   "execution_count": null,
   "id": "310dac51-58ad-458d-bf62-770dd1f0fc5e",
   "metadata": {
    "scrolled": true
   },
   "outputs": [],
   "source": [
    "from geometric_bayesian.utils.math import pullback\n",
    "from geometric_bayesian.operators import DiagOperator\n",
    "\n",
    "H = DiagOperator(jnp.array(2.0), 2)\n",
    "print('Reference', metric(x))\n",
    "print('Identity pullback', jax.lax.map(lambda v: pullback(embedding)(x,v), jnp.eye(2)))\n",
    "print('Non-identity pullback', jax.lax.map(lambda v: pullback(embedding, H)(x,v), jnp.eye(2)))"
   ]
  },
  {
   "cell_type": "code",
   "execution_count": null,
   "id": "a26c110c-b1bd-40a7-bc37-2827f695e5d3",
   "metadata": {},
   "outputs": [],
   "source": [
    "from geometric_bayesian.geom.embedding import pullmetric, christoffel_fk, christoffel_sk\n",
    "print('Reference', metric(x))\n",
    "print('Identity pullback', jax.lax.map(lambda v: pullmetric(embedding)(x,v), jnp.eye(2)))\n",
    "print('Metric-Vector product', pullmetric(embedding)(x,vi))\n",
    "print('C1k-Vector product', christoffel_fk(embedding)(x,vi))\n",
    "print('C2k-Vector product', christoffel_sk(embedding)(x,vi))"
   ]
  },
  {
   "cell_type": "code",
   "execution_count": null,
   "id": "47b5941f-2ff2-47ce-81e8-0821ce9fa6c3",
   "metadata": {},
   "outputs": [],
   "source": [
    "from geometric_bayesian.utils.math import hvp, hvp_2\n",
    "print('Hessian-Vector product', hvp(embedding)(x,vi))\n",
    "print('Hessian-Vector product', hvp_2(embedding)(x,vi))"
   ]
  },
  {
   "cell_type": "code",
   "execution_count": null,
   "id": "622c68c3-23d0-4e90-8d8f-43856556a1b2",
   "metadata": {},
   "outputs": [],
   "source": [
    "g = pullmetric(embedding)\n",
    "g_fn = lambda x: jax.lax.map(lambda v: g(x,v), jnp.eye(2))\n",
    "# jax.vjp(g_fn, x)[1](jnp.vstack([vi,vi]).T)\n",
    "# vi@jax.jvp(g_fn, (x,), (vi,))[1]\n",
    "print(\"First term Christoffel\", jnp.einsum('mji,i->mj', jax.jacfwd(g_fn)(x), vi)@vj)\n",
    "print(\"Second term Christoffel\", jnp.einsum('mij,i->mj', jax.jacfwd(g_fn)(x), vi)@vj)\n",
    "print(\"Third term Christoffel\", jnp.einsum('ijm,i->mj', jax.jacfwd(g_fn)(x), vi)@vj)"
   ]
  },
  {
   "cell_type": "code",
   "execution_count": null,
   "id": "c20d0e36-112b-4478-8179-7bab8efcd8ce",
   "metadata": {
    "scrolled": true
   },
   "outputs": [],
   "source": [
    "jvp = lambda x: jax.linearize(sphere_embedding, x)[1]\n",
    "vjp = lambda x: jax.linear_transpose(jvp(x), vj)\n",
    "grad = lambda x: jax.lax.map(vjp(x), jnp.eye(3))\n",
    "hess = lambda v: jax.jvp(grad, (x,), (v,))[1][0]\n",
    "\n",
    "print(\"Hessian SC\", jvp(x)(vj)@hess(vi), \"Hessian DC\", vjp(x)(hess(vi)@vj)[0])\n",
    "print(\"First term Christoffel\", jvp(x)(vj)@hess(vi) + vjp(x)(hess(vi)@vj)[0])\n",
    "\n",
    "print(\"Hessian SC\", jvp(x)(vi)@hess(vj), \"Hessian DC\", vjp(x)(hess(vj)@vi)[0])\n",
    "print(\"Second term Christoffel\", jvp(x)(vi)@hess(vj) + vjp(x)(hess(vj)@vi)[0])\n",
    "\n",
    "print(\"Hessian SC\", jvp(x)(vj)@hess(vi), \"Hessian SC\", jvp(x)(vi)@hess(vj))\n",
    "print(\"Third term Christoffel\", jvp(x)(vj)@hess(vi) + jvp(x)(vi)@hess(vj))"
   ]
  },
  {
   "cell_type": "markdown",
   "id": "50db6cb5-2b4a-4a77-9626-c88e3562c786",
   "metadata": {
    "jp-MarkdownHeadingCollapsed": true
   },
   "source": [
    "### Geodesic Integration (Embedding)"
   ]
  },
  {
   "cell_type": "code",
   "execution_count": null,
   "id": "10899144-bffb-48c6-bb3c-47529c8454de",
   "metadata": {},
   "outputs": [],
   "source": [
    "import time\n",
    "from functools import partial\n",
    "from geometric_bayesian.geom.embedding import pullmetric, christoffel_fk, christoffel_sk\n",
    "\n",
    "def torus(x, a=3.0, b=1.0):\n",
    "    return jnp.array([(a+b*jnp.cos(x[1])) * jnp.cos(x[0]), (a+b*jnp.cos(x[1])) * jnp.sin(x[0]), b*jnp.sin(x[1])])\n",
    "csk = christoffel_sk(torus)\n",
    "\n",
    "@jax.jit\n",
    "def dynamics(x,v):\n",
    "    return -csk(x,v)\n",
    "\n",
    "def ode_ef(f,x0,v0,dt,T):\n",
    "    steps = int(T/dt)\n",
    "    x, v = jnp.zeros((steps,len(x0))), jnp.zeros((steps, len(v0)))\n",
    "    x, v = x.at[0].set(x0), v.at[0].set(v0)\n",
    "    for i in range(steps-1):\n",
    "        v = v.at[i+1].set(v[i] + dt*f(x[i], v[i]))\n",
    "        x = x.at[i+1].set(x[i] + dt*v[i+1])\n",
    "    return x, v"
   ]
  },
  {
   "cell_type": "code",
   "execution_count": null,
   "id": "a92686fe-d899-4f41-938e-63bb337bf767",
   "metadata": {},
   "outputs": [],
   "source": [
    "rot = jnp.linspace(0, 2*jnp.pi, 9)[:-1]\n",
    "x0 = jnp.array([[jnp.pi, jnp.pi]]).repeat(rot.shape[0],axis=0)\n",
    "v0 = jnp.vstack((jnp.cos(rot),jnp.sin(rot))).transpose()\n",
    "dt, T = 0.01, 2.5\n",
    "\n",
    "start = time.time()\n",
    "x,v = jax.vmap(lambda x,v: ode_ef(dynamics, x, v, dt=dt, T=T), in_axes=(0,0))(x0,v0)\n",
    "print(time.time() - start)"
   ]
  },
  {
   "cell_type": "code",
   "execution_count": null,
   "id": "a6e1221b-4494-40ae-8c08-bd3f0d87b060",
   "metadata": {},
   "outputs": [],
   "source": [
    "def euler_forward(f, x, v, dt):\n",
    "    vn = v + dt*f(x, v)\n",
    "    xn = x + dt*v\n",
    "    return xn, vn\n",
    "\n",
    "def step(carry,_):\n",
    "    x,v = euler_forward(f=dynamics, x=carry[0], v=carry[1], dt=0.01)\n",
    "    return (x,v), (x,v)\n",
    "\n",
    "start = time.time()\n",
    "trajectory = jax.vmap(lambda x,v: jax.lax.scan(step, (x, v), None, length=int(T/dt))[1], in_axes=(0,0))(x0,v0)\n",
    "print(time.time() - start)"
   ]
  },
  {
   "cell_type": "code",
   "execution_count": null,
   "id": "33408bca-f01c-41b2-9f99-70e6c2d15a1b",
   "metadata": {},
   "outputs": [],
   "source": [
    "from geometric_bayesian.utils.plot import surf_plot\n",
    "fig = surf_plot(jax.vmap(torus,0), min=[0.0,0.0], max=[2*jnp.pi,2*jnp.pi], res=100)\n",
    "ax = fig.axes[0]\n",
    "for i in range(rot.shape[0]):\n",
    "    traj = jax.lax.map(torus, trajectory[0][i])\n",
    "    ax.plot(traj[:, 0], traj[:, 1], traj[:, 2], color=\"k\")"
   ]
  },
  {
   "cell_type": "markdown",
   "id": "dcf7eb39-bf16-4ed5-884f-3e85f84bff2a",
   "metadata": {},
   "source": [
    "### Geodesic Integration (Metric)"
   ]
  },
  {
   "cell_type": "code",
   "execution_count": null,
   "id": "4167e558-94c6-4064-a419-61a099ea12a8",
   "metadata": {},
   "outputs": [],
   "source": [
    "import time\n",
    "from geometric_bayesian.geom.embedding import pullmetric\n",
    "from geometric_bayesian.geom.metric import christoffel_fk,christoffel_sk\n",
    "from geometric_bayesian.geom.embedding import christoffel_sk as csk_embedding\n",
    "def torus(x, a=3.0, b=1.0):\n",
    "    return jnp.array([(a+b*jnp.cos(x[1])) * jnp.cos(x[0]), (a+b*jnp.cos(x[1])) * jnp.sin(x[0]), b*jnp.sin(x[1])])\n",
    "\n",
    "g_torus = pullmetric(torus)\n",
    "csk = christoffel_sk(g_torus)\n",
    "csk2 = csk_embedding(torus)\n",
    "cfk = christoffel_fk(g_torus)\n",
    "\n",
    "\n",
    "# @jax.jit\n",
    "# def dynamics(x,v):\n",
    "#     return -csk(x,v)\n",
    "\n",
    "def dynamics(t,x,u):\n",
    "    x1, x2 = jnp.split(x, 2)\n",
    "    return jnp.append(x2, -csk(x1,x2)), None\n",
    "\n",
    "x_test = jnp.array([0.0000, 0.0635])"
   ]
  },
  {
   "cell_type": "code",
   "execution_count": null,
   "id": "375d0f41-79b1-4652-b26f-8f757d74a0a4",
   "metadata": {
    "scrolled": true
   },
   "outputs": [],
   "source": [
    "g_diag = jax.vmap(lambda v: g_torus(x_test, v))(jnp.eye(2))\n",
    "d,u = jnp.linalg.eigh(g_diag)\n",
    "l = u*jnp.sqrt(d)"
   ]
  },
  {
   "cell_type": "code",
   "execution_count": null,
   "id": "e9a0a196-3196-4024-9d49-367fa0ee1d6b",
   "metadata": {},
   "outputs": [],
   "source": [
    "g_diag"
   ]
  },
  {
   "cell_type": "code",
   "execution_count": null,
   "id": "da8c5c8d-a3fc-4016-bb83-d6f601f440ed",
   "metadata": {},
   "outputs": [],
   "source": [
    "jax.vmap(lambda u,v: cfk(x_test,u,v), in_axes=(1, None))(jnp.eye(2), jnp.array([0,1]))"
   ]
  },
  {
   "cell_type": "code",
   "execution_count": null,
   "id": "91e1a2ac-565f-4700-8efa-f12764476c4e",
   "metadata": {},
   "outputs": [],
   "source": [
    "jax.vmap(lambda u,v: csk(x_test,u,v), in_axes=(1,1))(l,l).sum(axis=0)"
   ]
  },
  {
   "cell_type": "code",
   "execution_count": null,
   "id": "e6760dbc-4c98-4ed1-8be9-f4ee7da435a0",
   "metadata": {},
   "outputs": [],
   "source": [
    "rand_3t = jax.random.uniform(jax.random.key(0), (2,2,2))\n",
    "rand_2t = jax.random.uniform(jax.random.key(0), (2,2))\n",
    "rand_2t = rand_2t + rand_2t.T + 10*jnp.eye(2)\n",
    "d, u = jnp.linalg.eigh(rand_2t)"
   ]
  },
  {
   "cell_type": "code",
   "execution_count": null,
   "id": "9389c405-e30b-48b3-bd54-15093a99be42",
   "metadata": {},
   "outputs": [],
   "source": [
    "l = u @ jnp.diag(jnp.sqrt(d))"
   ]
  },
  {
   "cell_type": "code",
   "execution_count": null,
   "id": "5bcc0a6a-9065-4d36-98f8-49a13cbee3ec",
   "metadata": {},
   "outputs": [],
   "source": [
    "l1 = u[:,0]*jnp.sqrt(d[0])\n",
    "l2 = u[:,1]*jnp.sqrt(d[1])"
   ]
  },
  {
   "cell_type": "code",
   "execution_count": null,
   "id": "55cc318b-1a78-4439-b9b1-a16b1ad7b001",
   "metadata": {},
   "outputs": [],
   "source": [
    "jnp.einsum('ijk,ij->k', rand_3t, rand_2t)"
   ]
  },
  {
   "cell_type": "code",
   "execution_count": null,
   "id": "25e4223b-f7a4-459c-b65b-075255818ae4",
   "metadata": {
    "scrolled": true
   },
   "outputs": [],
   "source": [
    "jnp.einsum('ijk,ij->k', rand_3t, l1[:,None] @ l1[None,:]) + jnp.einsum('ijk,ij->k', rand_3t, l2[:,None] @ l2[None,:])"
   ]
  },
  {
   "cell_type": "code",
   "execution_count": null,
   "id": "464c7694-bc01-4982-ad96-5f2b7553baef",
   "metadata": {},
   "outputs": [],
   "source": [
    "jax.vmap(lambda v: jnp.einsum('ijk,ij->k', rand_3t, v[:,None] @ v[None,:]), in_axes=1)(l).sum(axis=0)"
   ]
  },
  {
   "cell_type": "code",
   "execution_count": null,
   "id": "58312ab7-474e-4694-99fa-303230a7d38c",
   "metadata": {},
   "outputs": [],
   "source": [
    "jnp.einsum('ijk,ij->k', rand_3t, l2[:,None] @ l2[None,:])"
   ]
  },
  {
   "cell_type": "code",
   "execution_count": null,
   "id": "288664e3-4afa-470a-87d9-22bf3eba53cf",
   "metadata": {},
   "outputs": [],
   "source": [
    "jax.vmap(lambda u,v: jnp.einsum('jk,j->k', jnp.einsum('ijk,i->jk', rand_3t, u), v), in_axes=(1,1), out_axes=(2))(jnp.eye(2), jnp.eye(2))\n",
    "\n"
   ]
  },
  {
   "cell_type": "code",
   "execution_count": null,
   "id": "51887d22-4c4c-4755-b012-f8821058586f",
   "metadata": {},
   "outputs": [],
   "source": [
    "rand_3t"
   ]
  },
  {
   "cell_type": "code",
   "execution_count": null,
   "id": "e197a4ce-6b26-4a58-9a4e-4d283e749260",
   "metadata": {},
   "outputs": [],
   "source": [
    "jax.vmap(lambda v: csk(x_test, v))(jnp.eye(2))"
   ]
  },
  {
   "cell_type": "code",
   "execution_count": null,
   "id": "67569cb3-fa7b-4235-bec8-388ebdffccee",
   "metadata": {},
   "outputs": [],
   "source": [
    "jax.vmap(lambda v: csk2(x_test, v))(jnp.eye(2))"
   ]
  },
  {
   "cell_type": "code",
   "execution_count": null,
   "id": "3e9b6b1f-cb48-4a89-9dc7-525e93d05e24",
   "metadata": {},
   "outputs": [],
   "source": [
    "from geometric_bayesian.integrate.integrate import integrate\n",
    "from geometric_bayesian.integrate import integrate, ef\n",
    "rot = jnp.linspace(0, 2*jnp.pi, 9)[:-1]\n",
    "x0 = jnp.array([[jnp.pi, jnp.pi]]).repeat(rot.shape[0],axis=0)\n",
    "v0 = jnp.vstack((jnp.cos(rot),jnp.sin(rot))).transpose()\n",
    "dt, T = 0.01, 2.5\n",
    "step = integrate(\n",
    "    f = dynamics,\n",
    "    dt = dt,\n",
    "    T = T,\n",
    "    integrator = ef,\n",
    ")"
   ]
  },
  {
   "cell_type": "code",
   "execution_count": null,
   "id": "a32d1700-db6d-45be-b2a2-25f2911f17cc",
   "metadata": {},
   "outputs": [],
   "source": [
    "start = time.time()\n",
    "trajectory = jax.vmap(step, in_axes=0)(jnp.hstack((x0, v0)))\n",
    "print(time.time() - start)"
   ]
  },
  {
   "cell_type": "code",
   "execution_count": null,
   "id": "09fff8a4-62eb-4ecd-ba4f-fd78754b3929",
   "metadata": {},
   "outputs": [],
   "source": [
    "from geometric_bayesian.utils.plot import surf_plot\n",
    "fig = surf_plot(jax.vmap(torus), min=[0.0,0.0], max=[2*jnp.pi,2*jnp.pi], res=100)\n",
    "ax = fig.axes[0]\n",
    "for i in range(rot.shape[0]):\n",
    "    traj = jax.lax.map(torus, trajectory[0][i])\n",
    "    ax.plot(traj[:, 0], traj[:, 1], traj[:, 2], color=\"k\")"
   ]
  },
  {
   "cell_type": "code",
   "execution_count": null,
   "id": "7ccbb1bc-a0ab-4535-b99c-b549d59e9752",
   "metadata": {
    "scrolled": true
   },
   "outputs": [],
   "source": [
    "fig = contour_plot(jax.vmap(torus,0), min=[0.0,0.0], max=[2*jnp.pi,2*jnp.pi], res=100)"
   ]
  },
  {
   "cell_type": "markdown",
   "id": "6a46f6fa-2192-4be5-92d2-29d5ab13ab7a",
   "metadata": {},
   "source": [
    "## Eigenvalues"
   ]
  },
  {
   "cell_type": "code",
   "execution_count": null,
   "id": "502dc6c6-928c-41d4-b84c-24f17c79c31a",
   "metadata": {},
   "outputs": [],
   "source": [
    "## import scipy\n",
    "import numpy as np\n",
    "\n",
    "rng_key = jax.random.key(0)\n",
    "num_eig = 10\n",
    "num_not_plot = 6\n",
    "# eigval_scipy, eigvec_scipy = scipy.sparse.linalg.eigsh(np.array(jax.lax.map(ggn_mv, jnp.eye(num_params))), k=2)\n",
    "eigval_scipy, eigvec_scipy = scipy.linalg.eigh(np.array(jax.lax.map(ggn_mv, jnp.eye(num_params))))\n",
    "eigval_lanczos, eigvec_lanczos = ggn_op.diagonalize(rng_key, num_modes=num_eig, method='lanczos')\n",
    "# eigval_lopcg, eigvec_lopcg = ggn_op.diagonalize(rng_key, num_modes=2, method='lobpcg')"
   ]
  },
  {
   "cell_type": "code",
   "execution_count": null,
   "id": "e7ca7941-031f-4b31-97b3-14b9e4d0cfd8",
   "metadata": {},
   "outputs": [],
   "source": [
    "fig, ax = plt.subplots()\n",
    "ax.plot(range(num_params - len(eigval_lanczos), num_params-num_not_plot), eigval_lanczos[:-num_not_plot], '-o', label='Lanczos')\n",
    "ax.plot(range(num_params - len(eigval_scipy), num_params-num_not_plot), eigval_scipy[:-num_not_plot], '-o', color= 'green', label='Scipy')\n",
    "ax.legend()"
   ]
  },
  {
   "cell_type": "markdown",
   "id": "b5c779f0-e27f-445e-a7b5-a794c7683ef3",
   "metadata": {},
   "source": [
    "## Custom derivatives"
   ]
  },
  {
   "cell_type": "code",
   "execution_count": null,
   "id": "6aadc4d1-e63a-4b3b-8711-95d6a8bf4b5c",
   "metadata": {},
   "outputs": [],
   "source": [
    "@jax.custom_vjp\n",
    "def myfun(x):\n",
    "    return x[0]**2 + 5*x[1]**3 + x[0]*x[1]\n",
    "def grad_myfun(x):\n",
    "    return jnp.array([2*x[0] + x[1], 15*x[1]**2 + x[0]])\n",
    "def hess_myfun(x):\n",
    "    return jnp.array([[2, 1],[1,30*x[1]]])"
   ]
  },
  {
   "cell_type": "code",
   "execution_count": null,
   "id": "af6a0567-69a3-4902-89d6-29c84399b563",
   "metadata": {},
   "outputs": [],
   "source": [
    "def myfun_fwd(x):\n",
    "  # Returns primal output and residuals to be used in backward pass by f_bwd.\n",
    "  return myfun(x), ([2*x[0] + x[1], 15*x[1]**2 + x[0]])\n",
    "\n",
    "def myfun_bwd(res, g):\n",
    "  arg_1, arg_2 = res # Gets residuals computed in f_fwd\n",
    "  return (jnp.array([arg_1 * g, arg_2 * g]),)\n",
    "\n",
    "myfun.defvjp(myfun_fwd, myfun_bwd)"
   ]
  },
  {
   "cell_type": "code",
   "execution_count": null,
   "id": "4d524309-e6c3-4c4a-b215-e06c3f3a14ec",
   "metadata": {},
   "outputs": [],
   "source": [
    "x = jnp.array([0.2, 0.5])\n",
    "v = jnp.array([0.3, 0.3])\n",
    "print(grad_myfun(x))\n",
    "print(jax.grad(myfun)(x))"
   ]
  },
  {
   "cell_type": "code",
   "execution_count": null,
   "id": "a15360e6-1f09-43df-84d7-0102171228ef",
   "metadata": {},
   "outputs": [],
   "source": [
    "from functools import partial\n",
    "\n",
    "p = lambda f: MultivariateNormal(f, cov=DiagOperator(1.0, model.shape[1]))\n",
    "\n",
    "@partial(jax.custom_jvp, nondiff_argnums=(0,1))\n",
    "def neg_logll(p, y, f):\n",
    "    return jax.vmap(lambda y, f: -p(f)._logpdf(y), in_axes=(0,0))(y, f).sum()\n",
    "\n",
    "def neg_logll_autograd(p, y, f):\n",
    "    return jax.vmap(lambda y, f: -p(f)._logpdf(y), in_axes=(0,0))(y, f).sum()\n",
    "\n",
    "@partial(jax.custom_jvp, nondiff_argnums=(0,1,3))\n",
    "@neg_logll.defjvp\n",
    "def neg_logll_jvp(p, y, primals, tangents):\n",
    "    print(\"hello\")\n",
    "    f = primals[0]\n",
    "    v = tangents[0]\n",
    "    out = jax.vmap(lambda y, f, v: -p(f)._logpdf_jvp_mean(y, v), in_axes=(0,0,0))(y, f, v).sum(axis=0)\n",
    "    return jax.ShapeDtypeStruct(out.shape, out.dtype), out\n",
    "\n",
    "@neg_logll_jvp.defjvp\n",
    "def neg_logll_hvp(p, y, dummy_tangents, primals_new, tangents_new):\n",
    "    print(\"hello2\")\n",
    "    f = primals_new[0]\n",
    "    v = tangents_new[0]\n",
    "    out = jax.vmap(lambda y, f, v: -p(f)._logpdf_hvp_mean(y, v), in_axes=(0,0,0))(y, f, v).sum(axis=0)\n",
    "    return jax.ShapeDtypeStruct(out.shape, out.dtype), out"
   ]
  },
  {
   "cell_type": "code",
   "execution_count": null,
   "id": "7b11c45d-77a8-4f77-8587-d3e47fc678b5",
   "metadata": {},
   "outputs": [],
   "source": [
    "v = jax.random.uniform(rng_key, (10, model.shape[1]))"
   ]
  },
  {
   "cell_type": "code",
   "execution_count": null,
   "id": "a5a82597-a97c-4710-9ae7-b46610819a3c",
   "metadata": {},
   "outputs": [],
   "source": [
    "neg_logll_jvp(p, train_targets, (model(train_samples),), (v,))[1]"
   ]
  },
  {
   "cell_type": "code",
   "execution_count": null,
   "id": "86ea8383-41ca-45c3-9d45-e7d909210cc3",
   "metadata": {
    "scrolled": true
   },
   "outputs": [],
   "source": [
    "jax.jvp(lambda f: neg_logll(p, train_targets, f), (model(train_samples),), (v,))[1]"
   ]
  },
  {
   "cell_type": "code",
   "execution_count": null,
   "id": "9f9d5d30-c5f2-4ffc-a312-c43fa8cff449",
   "metadata": {},
   "outputs": [],
   "source": [
    "jax.jvp(lambda f: neg_logll_autograd(p, train_targets, f), (model(train_samples),), (v,))[1]"
   ]
  },
  {
   "cell_type": "code",
   "execution_count": null,
   "id": "5926c7ea-110a-48c4-8507-ef2ced77cc14",
   "metadata": {},
   "outputs": [],
   "source": [
    "neg_logll_hvp(p, train_targets, None, (model(train_samples),), (v,))[1]"
   ]
  },
  {
   "cell_type": "code",
   "execution_count": null,
   "id": "7ff0ac98-1bba-47f1-b266-860e33260161",
   "metadata": {},
   "outputs": [],
   "source": [
    "jax.jvp(lambda f: neg_logll_jvp(p, train_targets, f, None), (model(train_samples),), (v,) )[1]"
   ]
  },
  {
   "cell_type": "code",
   "execution_count": null,
   "id": "607554f5-3ff8-44e2-85e1-90f4b66419db",
   "metadata": {},
   "outputs": [],
   "source": [
    "jax.jvp(jax.grad(f), primals, tangents)[1]"
   ]
  },
  {
   "cell_type": "code",
   "execution_count": null,
   "id": "024c3e17-01b9-4ba4-ab0d-813216daaef1",
   "metadata": {
    "scrolled": true
   },
   "outputs": [],
   "source": [
    "jax.jvp(jax.grad(lambda f: neg_logll(p, train_targets, f)), (model(train_samples),),(v,))[1]"
   ]
  },
  {
   "cell_type": "code",
   "execution_count": null,
   "id": "25402383-976e-445c-9de3-705c74240b27",
   "metadata": {},
   "outputs": [],
   "source": [
    "(lambda f: neg_logll_autograd(p, train_targets, f(train_samples)))(model)"
   ]
  },
  {
   "cell_type": "markdown",
   "id": "778bcb04-b158-423c-99a1-825fde396cf5",
   "metadata": {
    "jp-MarkdownHeadingCollapsed": true
   },
   "source": [
    "## Posterior"
   ]
  },
  {
   "cell_type": "code",
   "execution_count": null,
   "id": "05a126b4-bf9d-4b41-bfc7-6d79b63be91a",
   "metadata": {},
   "outputs": [],
   "source": [
    "import jax.numpy as jnp\n",
    "from jax.scipy.stats.norm import pdf as normal\n",
    "from jax.scipy.stats.multivariate_normal import pdf as multivariate_normal"
   ]
  },
  {
   "cell_type": "code",
   "execution_count": null,
   "id": "491533f7-7f83-4462-aac7-a273e9cb8bc7",
   "metadata": {},
   "outputs": [],
   "source": [
    "p_theta = lambda theta: multivariate_normal(theta, mean=jnp.zeros(2), cov=jnp.array([[10,0],[0,1]]))"
   ]
  },
  {
   "cell_type": "code",
   "execution_count": null,
   "id": "10c30cfa-cd16-4048-8e80-9cd86ed800c4",
   "metadata": {},
   "outputs": [],
   "source": [
    "p_x_theta = lambda x, theta: 0.5*normal(x, loc=theta[0], scale=2) + 0.5*normal(x, loc=theta.sum(), scale=2) "
   ]
  },
  {
   "cell_type": "code",
   "execution_count": null,
   "id": "046eed6a-780c-48ea-bafd-a0ed85d397a5",
   "metadata": {},
   "outputs": [],
   "source": [
    "p_theta(jnp.array([0,0]))"
   ]
  },
  {
   "cell_type": "code",
   "execution_count": null,
   "id": "60343d2b-77c6-4c50-bf3e-429d81875c66",
   "metadata": {},
   "outputs": [],
   "source": [
    "p_x_theta(0.1, jnp.array([0,0]))"
   ]
  },
  {
   "cell_type": "code",
   "execution_count": null,
   "id": "f9801137-1967-469c-9e18-48748cef767a",
   "metadata": {},
   "outputs": [],
   "source": []
  },
  {
   "cell_type": "code",
   "execution_count": null,
   "id": "9573d731-01ff-4701-8472-ae6f8bfd4f22",
   "metadata": {
    "scrolled": true
   },
   "outputs": [],
   "source": [
    "import jax\n",
    "import jax.numpy as jnp\n",
    "from jax import grad, random\n",
    "import matplotlib.pyplot as plt\n",
    "\n",
    "# Parameters from paper\n",
    "sigma1_squared = 10\n",
    "sigma2_squared = 1\n",
    "sigma_x_squared = 2\n",
    "num_data = 100\n",
    "\n",
    "# True parameters\n",
    "true_theta1 = 0.0\n",
    "true_theta2 = 1.0\n",
    "\n",
    "# Generate synthetic data\n",
    "key = random.PRNGKey(0)\n",
    "data_key, sample_key = random.split(key)\n",
    "data = (random.normal(data_key, (num_data,)) * jnp.sqrt(sigma_x_squared) +\n",
    "        random.choice(sample_key, jnp.array([true_theta1, true_theta1 + true_theta2]), (num_data,)))\n",
    "\n",
    "# Log posterior function\n",
    "def log_posterior(theta, data):\n",
    "    theta1, theta2 = theta\n",
    "    log_prior = (-0.5 * theta1**2 / sigma1_squared) + (-0.5 * theta2**2 / sigma2_squared)\n",
    "    \n",
    "    log_likelihood = jnp.sum(jnp.log(\n",
    "        0.5 * jax.scipy.stats.norm.pdf(data, theta1, jnp.sqrt(sigma_x_squared)) +\n",
    "        0.5 * jax.scipy.stats.norm.pdf(data, theta1 + theta2, jnp.sqrt(sigma_x_squared))\n",
    "    ))\n",
    "    \n",
    "    return log_prior + log_likelihood\n",
    "\n",
    "# Stochastic Gradient Langevin Dynamics (SGLD)\n",
    "steps = 10000\n",
    "gamma = 0.55\n",
    "a, b = 0.01, 100\n",
    "theta = jnp.array([0.0, 0.0])\n",
    "samples = []\n",
    "\n",
    "log_post_grad = grad(log_posterior)\n",
    "\n",
    "for t in range(steps):\n",
    "    eps_t = a * (b + t)**(-gamma)\n",
    "    idx = t % num_data\n",
    "    data_batch = data[idx:idx+1]\n",
    "    stochastic_grad = log_post_grad(theta, data_batch) * num_data\n",
    "\n",
    "    key, subkey = random.split(key)\n",
    "    noise = random.normal(subkey, shape=theta.shape) * jnp.sqrt(eps_t)\n",
    "\n",
    "    theta = theta + 0.5 * eps_t * stochastic_grad + noise\n",
    "    samples.append(theta)\n",
    "\n",
    "samples = jnp.array(samples)\n",
    "\n",
    "# Plot samples and posterior distribution\n",
    "plt.figure(figsize=(10, 6))\n",
    "plt.scatter(samples[:, 0], samples[:, 1], alpha=0.2, s=1, label=\"SGLD Samples\")\n",
    "plt.xlabel(r'$\\theta_1$')\n",
    "plt.ylabel(r'$\\theta_2$')\n",
    "plt.title(\"Stochastic Gradient Langevin Dynamics Posterior Samples\")\n",
    "plt.legend()\n",
    "plt.grid(True)\n",
    "plt.show()"
   ]
  },
  {
   "cell_type": "code",
   "execution_count": null,
   "id": "f8657360-8039-4b51-b2d3-b54cc91e4d32",
   "metadata": {},
   "outputs": [],
   "source": [
    "# Grid for posterior evaluation\n",
    "theta1_grid = jnp.linspace(-3, 3, 100)\n",
    "theta2_grid = jnp.linspace(-3, 3, 100)\n",
    "T1, T2 = jnp.meshgrid(theta1_grid, theta2_grid)\n",
    "posterior_grid = jnp.exp(jax.vmap(lambda t1, t2: log_posterior(jnp.array([t1, t2]), data))(T1.ravel(), T2.ravel())).reshape(T1.shape)\n",
    "\n",
    "# Plot samples and true posterior\n",
    "plt.figure(figsize=(10, 6))\n",
    "plt.contour(T1, T2, posterior_grid, levels=30, cmap='viridis')\n",
    "plt.scatter(samples[:, 0], samples[:, 1], alpha=0.2, s=1, color='red', label=\"SGLD Samples\")\n",
    "plt.xlabel(r'$\\theta_1$')\n",
    "plt.ylabel(r'$\\theta_2$')\n",
    "plt.title(\"Stochastic Gradient Langevin Dynamics Samples with True Posterior\")\n",
    "plt.legend()\n",
    "plt.grid(True)\n",
    "plt.show()"
   ]
  },
  {
   "cell_type": "code",
   "execution_count": null,
   "id": "a371290e-e4dd-46a4-8812-f4af80e2231f",
   "metadata": {},
   "outputs": [],
   "source": []
  }
 ],
 "metadata": {
  "kernelspec": {
   "display_name": "Python 3 (ipykernel)",
   "language": "python",
   "name": "python3"
  },
  "language_info": {
   "codemirror_mode": {
    "name": "ipython",
    "version": 3
   },
   "file_extension": ".py",
   "mimetype": "text/x-python",
   "name": "python",
   "nbconvert_exporter": "python",
   "pygments_lexer": "ipython3",
   "version": "3.11.13"
  }
 },
 "nbformat": 4,
 "nbformat_minor": 5
}
