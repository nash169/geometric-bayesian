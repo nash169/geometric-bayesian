{
 "cells": [
  {
   "cell_type": "code",
   "execution_count": null,
   "id": "5aa2c528-c090-43f7-8044-e2b59a0ebcd4",
   "metadata": {},
   "outputs": [],
   "source": [
    "%load_ext autoreload\n",
    "%autoreload 2\n",
    "\n",
    "import os\n",
    "import sys\n",
    "import time\n",
    "import glob\n",
    "import gc\n",
    "\n",
    "import jax\n",
    "import jax.numpy as jnp\n",
    "from jax import grad, jit, vmap, random\n",
    "jax.config.update('jax_enable_x64', True)\n",
    "\n",
    "\n",
    "%matplotlib widget\n",
    "import matplotlib as mpl\n",
    "import matplotlib.pyplot as plt\n",
    "from mpl_toolkits.axes_grid1 import make_axes_locatable\n",
    "plt.rcParams['text.usetex'] = True\n",
    "plt.rcParams['font.family'] = 'Times'\n",
    "\n",
    "sys.path.insert(0, os.path.abspath(os.path.join('../')))"
   ]
  },
  {
   "cell_type": "markdown",
   "id": "334c7e85-edbd-41fd-9444-8634c83f4695",
   "metadata": {},
   "source": [
    "## Find MAP"
   ]
  },
  {
   "cell_type": "code",
   "execution_count": null,
   "id": "e66f7987-616d-4329-b659-f5a18aa0b676",
   "metadata": {},
   "outputs": [],
   "source": [
    "from geometric_bayesian.utils import DataLoader\n",
    "\n",
    "num_samples_1, num_samples_2 = 100, 100\n",
    "samples_c1 = jax.random.multivariate_normal(jax.random.key(0), jnp.array([-1,-1]), 0.2*jnp.eye(2), shape=(num_samples_1,))\n",
    "targets_c1 = jnp.zeros(num_samples_1)\n",
    "samples_c2 = jax.random.multivariate_normal(jax.random.key(0), jnp.array([1,1]), 0.2*jnp.eye(2), shape=(num_samples_2,))\n",
    "targets_c2 = jnp.ones(num_samples_2)\n",
    "\n",
    "samples = jnp.concatenate((samples_c1,samples_c2), axis=0)\n",
    "targets = jnp.concatenate((targets_c1,targets_c2))\n",
    "train_loader = DataLoader(samples, targets, batch_size=2, shuffle=True)"
   ]
  },
  {
   "cell_type": "code",
   "execution_count": null,
   "id": "9edd9d53-af1b-4d39-a563-74f87c7e49d7",
   "metadata": {},
   "outputs": [],
   "source": [
    "from flax import nnx\n",
    "from geometric_bayesian.models import MLP\n",
    "\n",
    "model = MLP(\n",
    "    layers=[2,3,2,3,1],\n",
    "    nl = nnx.tanh,\n",
    "    use_bias=False,\n",
    "    param_dtype=jax.numpy.float64\n",
    ")\n",
    "num_params = model.size"
   ]
  },
  {
   "cell_type": "code",
   "execution_count": null,
   "id": "4ced6a4e-54c9-493d-b8b2-ae06b084075a",
   "metadata": {},
   "outputs": [],
   "source": [
    "from geometric_bayesian.densities import Bernoulli, MultivariateNormal\n",
    "from geometric_bayesian.functions.likelihood import neg_logll\n",
    "from geometric_bayesian.operators import DiagOperator\n",
    "\n",
    "p_ll = lambda f : Bernoulli(f, logits=True)\n",
    "prior_var = DiagOperator(\n",
    "    diag = jnp.array(10.),\n",
    "    dim = num_params\n",
    ")\n",
    "p_prior = MultivariateNormal(cov=prior_var)"
   ]
  },
  {
   "cell_type": "code",
   "execution_count": null,
   "id": "85d8d09b-8428-4599-a264-ccc756f8cb4c",
   "metadata": {},
   "outputs": [],
   "source": [
    "import optax\n",
    "from flax import nnx\n",
    "\n",
    "n_epochs = 100\n",
    "step_size = 1e-3\n",
    "optimizer = nnx.Optimizer(model, optax.adam(step_size))\n",
    "\n",
    "def loss_fn(model, x, y):\n",
    "    y_pred = model(x)\n",
    "    return neg_logll(p_ll, y, y_pred) #- p_prior(model.params)/y.shape[0]\n",
    "\n",
    "@nnx.jit\n",
    "def train_step(model, optimizer, x, y):\n",
    "    loss, grads = nnx.value_and_grad(loss_fn)(model, x, y)\n",
    "    optimizer.update(grads)\n",
    "    return loss"
   ]
  },
  {
   "cell_type": "code",
   "execution_count": null,
   "id": "75c1c391-7164-434a-8872-d3d89d12e7f1",
   "metadata": {},
   "outputs": [],
   "source": [
    "losses = []\n",
    "for epoch in range(n_epochs):\n",
    "    for x_tr, y_tr in train_loader:\n",
    "        losses.append(train_step(model, optimizer, x_tr, y_tr))\n",
    "\n",
    "    if epoch % 10 == 0:\n",
    "        print(f\"[epoch {epoch}]: loss: {losses[-1]:.4f}\")\n",
    "\n",
    "print(f'{optimizer.step.value = }')\n",
    "print(f\"Final loss: {losses[-1]:.4f}\")"
   ]
  },
  {
   "cell_type": "code",
   "execution_count": null,
   "id": "6e37229d-d9d0-4b1d-8d57-bd2808dea101",
   "metadata": {},
   "outputs": [],
   "source": [
    "from geometric_bayesian.utils.plot import contour_plot, surf_plot\n",
    "fig = contour_plot(lambda x: jax.nn.sigmoid(model(x)), min=[-3, -3], max=[3, 3], res=100, iso=False, alpha=0.5, zorder=-1, label='\\sigma(f(X))')\n",
    "ax = fig.axes[0]\n",
    "ax.scatter(samples_c1[:,0], samples_c1[:,1], label='class 1', color='green', alpha=0.5)\n",
    "ax.scatter(samples_c2[:,0], samples_c2[:,1], label='class 2', color='orange', alpha=0.5)\n",
    "ax.set_xlim([-3,3])\n",
    "ax.set_ylim([-3,3])\n",
    "ax.set_aspect('equal', 'box')\n",
    "ax.legend()"
   ]
  },
  {
   "cell_type": "markdown",
   "id": "8efaa92d-a1c9-41f8-a361-586e757fc50c",
   "metadata": {},
   "source": [
    "## Laplace Approximation"
   ]
  },
  {
   "cell_type": "code",
   "execution_count": null,
   "id": "74e09337-2c29-414e-8c21-39e74bef8605",
   "metadata": {},
   "outputs": [],
   "source": [
    "from geometric_bayesian.curv.ggn import ggn\n",
    "from geometric_bayesian.utils.helper import wrap_pytree_function\n",
    "from geometric_bayesian.operators.psd_operator import PSDOperator\n",
    "\n",
    "ggn_fn = wrap_pytree_function(\n",
    "    ggn(\n",
    "        p = p_ll,\n",
    "        f = model,\n",
    "        X = samples,\n",
    "        y = targets,\n",
    "        scaling = float(samples.shape[0])\n",
    "    ),\n",
    "    nnx.state(model)\n",
    ")\n",
    "ggn_lr = PSDOperator(lambda v : ggn_fn(model.params, v), op_size=num_params).lowrank(num_modes=num_params)\n",
    "cov_op = (ggn_lr + p_prior._cov.inverse()).inverse()\n",
    "posterior = MultivariateNormal(cov=cov_op, mean=model.params)"
   ]
  },
  {
   "cell_type": "code",
   "execution_count": null,
   "id": "31d742ff-e542-444f-affa-e4d98589d86d",
   "metadata": {},
   "outputs": [],
   "source": [
    "from geometric_bayesian.approx.mc import pred_posterior_mean, pred_posterior_std, pred_posterior\n",
    "params_samples = posterior.sample(size=10)\n",
    "mean_fn = pred_posterior_mean(model, params_samples)\n",
    "std_fn = pred_posterior_std(model, params_samples)\n",
    "pred_posterior_fn = pred_posterior(model, params_samples, p_ll)"
   ]
  },
  {
   "cell_type": "code",
   "execution_count": null,
   "id": "05350c46-93c2-4120-b9e3-40de4f767791",
   "metadata": {},
   "outputs": [],
   "source": [
    "from geometric_bayesian.utils.plot import contour_plot, surf_plot\n",
    "fig = contour_plot(mean_fn, min=[-3, -3], max=[3, 3], res=100, iso=False, alpha=0.5, zorder=-1)\n",
    "ax = fig.axes[0]\n",
    "ax.scatter(samples_c1[:,0], samples_c1[:,1], label='class 1', color='green', alpha=0.5)\n",
    "ax.scatter(samples_c2[:,0], samples_c2[:,1], label='class 2', color='orange', alpha=0.5)\n",
    "ax.set_xlim([-3,3])\n",
    "ax.set_ylim([-3,3])\n",
    "ax.set_aspect('equal', 'box')\n",
    "ax.legend()"
   ]
  },
  {
   "cell_type": "code",
   "execution_count": null,
   "id": "8794d698-fbb2-41a9-8a68-a0a28b341d1d",
   "metadata": {},
   "outputs": [],
   "source": [
    "from geometric_bayesian.utils.plot import contour_plot, surf_plot\n",
    "fig = contour_plot(std_fn, min=[-3, -3], max=[3, 3], res=100, iso=False, alpha=0.5, zorder=-1)\n",
    "ax = fig.axes[0]\n",
    "ax.scatter(samples_c1[:,0], samples_c1[:,1], label='class 1', color='green', alpha=0.5)\n",
    "ax.scatter(samples_c2[:,0], samples_c2[:,1], label='class 2', color='orange', alpha=0.5)\n",
    "ax.set_xlim([-3,3])\n",
    "ax.set_ylim([-3,3])\n",
    "ax.set_aspect('equal', 'box')\n",
    "ax.legend()"
   ]
  },
  {
   "cell_type": "markdown",
   "id": "c4714ef1-b649-42fd-a4fb-b776be971c4e",
   "metadata": {},
   "source": [
    "## Features Mixture"
   ]
  },
  {
   "cell_type": "code",
   "execution_count": null,
   "id": "dc24e01c-5535-4b35-a36b-31469d6d3551",
   "metadata": {},
   "outputs": [],
   "source": [
    "from geometric_bayesian.utils.helper import wrap_pytree_function\n",
    "from geometric_bayesian.operators.psd_operator import PSDOperator\n",
    "\n",
    "f1 = model.features(samples,2)[targets==0]\n",
    "f2 = model.features(samples,2)[targets==1]\n",
    "\n",
    "p_z1 = MultivariateNormal(cov=PSDOperator(op=jnp.cov(f1.T)+1e-3*jnp.eye(f1.shape[1]), op_type='raw'),mean=jnp.mean(f1, axis=0))\n",
    "p_z2 = MultivariateNormal(cov=PSDOperator(op=jnp.cov(f2.T)+1e-3*jnp.eye(f2.shape[1]), op_type='raw'),mean=jnp.mean(f2, axis=0))\n",
    "p_z = lambda z: 0.5*jnp.exp(p_z1(z)) + 0.5*jnp.exp(p_z2(z))"
   ]
  },
  {
   "cell_type": "code",
   "execution_count": null,
   "id": "54fa3189-7e67-4c4d-88ef-e41c193c7854",
   "metadata": {},
   "outputs": [],
   "source": [
    "from geometric_bayesian.utils.plot import contour_plot\n",
    "\n",
    "mean, std = jnp.mean(model.features(samples,2), axis=0), jnp.std(model.features(samples,2), axis=0)\n",
    "fig, axs = plt.subplots(nrows=1, ncols=2, figsize=(10,4))\n",
    "# Need vmap but applied correctly - map over individual points, not coordinates\n",
    "fig = contour_plot(lambda z: jnp.exp(jax.vmap(p_z1)(z)), min=mean-3*std, max=mean+3*std, res=100, iso=False, alpha=0.5, zorder=-1, label=r'p(z|c=1)', fig_ax=(fig, axs[0]))\n",
    "fig = contour_plot(lambda z: jnp.exp(jax.vmap(p_z2)(z)), min=mean-3*std, max=mean+3*std, res=100, iso=False, alpha=0.5, zorder=-1, label=r'p(z|c=2)', fig_ax=(fig, axs[1]))\n",
    "for ax in axs:\n",
    "    ax.scatter(f1[:,0], f1[:,1], label='class 1', color='green', alpha=0.5)\n",
    "    ax.scatter(f2[:,0], f2[:,1], label='class 2', color='orange', alpha=0.5)\n",
    "    ax.set_aspect('equal', 'box')\n",
    "    ax.legend()\n",
    "fig.tight_layout()"
   ]
  },
  {
   "cell_type": "code",
   "execution_count": null,
   "id": "f6d52724-cd21-49fd-b082-becf1306146d",
   "metadata": {},
   "outputs": [],
   "source": [
    "p_y = lambda x: p_z1(model.features(x,2)) + jnp.log(1/2) - p_z(model.features(x,2))\n",
    "fig = contour_plot(jax.vmap(p_y), min=[-3, -3], max=[3, 3], res=100, iso=False, alpha=0.5, zorder=-1)\n",
    "ax = fig.axes[0]\n",
    "ax.scatter(samples_c1[:,0], samples_c1[:,1], label='class 1', color='green', alpha=0.5)\n",
    "ax.scatter(samples_c2[:,0], samples_c2[:,1], label='class 2', color='orange', alpha=0.5)\n",
    "ax.set_xlim([-3,3])\n",
    "ax.set_ylim([-3,3])\n",
    "ax.set_aspect('equal', 'box')\n",
    "ax.legend()"
   ]
  },
  {
   "cell_type": "code",
   "execution_count": null,
   "id": "fc330d62",
   "metadata": {},
   "outputs": [],
   "source": []
  }
 ],
 "metadata": {
  "kernelspec": {
   "display_name": "Python 3 (ipykernel)",
   "language": "python",
   "name": "python3"
  },
  "language_info": {
   "codemirror_mode": {
    "name": "ipython",
    "version": 3
   },
   "file_extension": ".py",
   "mimetype": "text/x-python",
   "name": "python",
   "nbconvert_exporter": "python",
   "pygments_lexer": "ipython3",
   "version": "3.11.13"
  }
 },
 "nbformat": 4,
 "nbformat_minor": 5
}
