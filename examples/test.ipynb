{
 "cells": [
  {
   "cell_type": "code",
   "execution_count": null,
   "id": "97e7a7a0-499e-4bf0-9628-f223dffdbfda",
   "metadata": {
    "scrolled": true
   },
   "outputs": [],
   "source": [
    "%load_ext autoreload\n",
    "%autoreload\n",
    "import os\n",
    "import sys\n",
    "import jax\n",
    "import jax.numpy as jnp\n",
    "from flax import nnx\n",
    "import math\n",
    "    \n",
    "sys.path.insert(0, os.path.abspath(os.path.join('../')))\n",
    "from geometric_bayesian.models import MLP\n",
    "from geometric_bayesian.operators import DenseOperator, SymOperator, PSDOperator, DiagOperator\n",
    "from geometric_bayesian.densities import Normal, MultivariateNormal\n",
    "from geometric_bayesian.utils import DataLoader, get_sinusoid_example, contour_plot, ggn, array_to_pytree, pytree_to_array\n",
    "\n",
    "# sys.path.insert(0, os.path.abspath(os.path.join('/Users/balint/Projects/laplax/')))\n",
    "sys.path.insert(0, os.path.abspath(os.path.join('/home/bernardo/repos/laplax/')))\n",
    "from laplax.curv import create_ggn_mv\n",
    "from laplax.util.loader import input_target_split"
   ]
  },
  {
   "cell_type": "markdown",
   "id": "fa75f0e0-9874-45e1-a12b-5c8beb9bb862",
   "metadata": {},
   "source": [
    "### Test PSD Operator"
   ]
  },
  {
   "cell_type": "code",
   "execution_count": null,
   "id": "26bb64ca-13b6-4b1c-a230-81d77cdf7567",
   "metadata": {},
   "outputs": [],
   "source": [
    "size = 10\n",
    "rng_key = jax.random.key(0)\n",
    "sca = jax.random.uniform(rng_key, (1, ))\n",
    "vec = jax.random.uniform(rng_key, (size, ))\n",
    "mat = jax.random.uniform(rng_key, (size, size))"
   ]
  },
  {
   "cell_type": "code",
   "execution_count": null,
   "id": "d7e36d6e-cbb2-4d59-826c-645d17e1345d",
   "metadata": {},
   "outputs": [],
   "source": [
    "mat += mat.transpose() + size*jnp.eye(mat.shape[0])\n",
    "op = PSDOperator(\n",
    "    op=mat,\n",
    "    op_type='raw'\n",
    ")\n",
    "op_mv = PSDOperator(\n",
    "    op=lambda v : jnp.matmul(mat, v),\n",
    "    op_size=size\n",
    ")"
   ]
  },
  {
   "cell_type": "code",
   "execution_count": null,
   "id": "9195647a-012f-4f79-a931-98099be1be80",
   "metadata": {},
   "outputs": [],
   "source": [
    "print(\"dense\")\n",
    "print(jnp.matmul(mat,vec).tolist())\n",
    "print(\"op chol\")\n",
    "print(op(vec).tolist())\n",
    "print(\"op mv\")\n",
    "print(op_mv(vec).tolist())"
   ]
  },
  {
   "cell_type": "code",
   "execution_count": null,
   "id": "ac0050cb-ef02-430a-b658-a6cc6fe93318",
   "metadata": {},
   "outputs": [],
   "source": [
    "print(\"dense\")\n",
    "print(jnp.linalg.solve(mat, vec).tolist())\n",
    "print(\"op chol\")\n",
    "print(op.solve(vec).tolist())\n",
    "print(\"op mv\")\n",
    "print(op_mv.solve(vec).tolist())"
   ]
  },
  {
   "cell_type": "code",
   "execution_count": null,
   "id": "7aa08ef1-34de-4781-b3e3-329ba709eaa5",
   "metadata": {},
   "outputs": [],
   "source": [
    "print(\"dense\")\n",
    "print(jnp.linalg.eigh(mat)[0].tolist())\n",
    "print(\"op chol\")\n",
    "print(op.diagonalize(num_iterations=10, rng_key=rng_key).tolist())\n",
    "print(\"op mv\")\n",
    "print(op_mv.diagonalize(num_iterations=10, rng_key=rng_key).tolist())"
   ]
  },
  {
   "cell_type": "markdown",
   "id": "6219347b-4364-49c2-bb7c-9a0cdc5153d0",
   "metadata": {},
   "source": [
    "### Test Normal"
   ]
  },
  {
   "cell_type": "code",
   "execution_count": null,
   "id": "0cb5adf9-6b86-40a0-98b3-7bb1d1e3bb77",
   "metadata": {},
   "outputs": [],
   "source": [
    "mean = jnp.array(1.0)\n",
    "cov = jnp.array(1.0)\n",
    "pdf = Normal(mean, cov)\n",
    "x = jnp.linspace(-2, 4, 100)"
   ]
  },
  {
   "cell_type": "code",
   "execution_count": null,
   "id": "44f8129e-0a94-4bf0-a523-1d185e10a08b",
   "metadata": {},
   "outputs": [],
   "source": [
    "import matplotlib.pyplot as plt\n",
    "plt.plot(x, pdf(x))"
   ]
  },
  {
   "cell_type": "markdown",
   "id": "b7439575-61c7-4b19-a32b-59766f346bcf",
   "metadata": {},
   "source": [
    "### Test Multivariate Normal"
   ]
  },
  {
   "cell_type": "code",
   "execution_count": null,
   "id": "ce5e71ef-a8e5-4910-a401-ce773b76cef9",
   "metadata": {},
   "outputs": [],
   "source": [
    "mean = jnp.array([0.0, 0.0])\n",
    "# cov = jnp.array([1.0, 0.5])\n",
    "s, u = jnp.diag(jnp.array([1.0, 0.5])), jnp.array([[1.0, 1.0],[-1.0,1.0]])\n",
    "cov = PSDOperator(\n",
    "    op=jnp.matmul(u.transpose(), jnp.matmul(s,u)),\n",
    "    op_type='raw'\n",
    ")\n",
    "pdf = MultivariateNormal(mean, cov)"
   ]
  },
  {
   "cell_type": "code",
   "execution_count": null,
   "id": "d69e1e85-76f6-4126-a220-e2fbbbba1265",
   "metadata": {
    "scrolled": true
   },
   "outputs": [],
   "source": [
    "_ = contour_plot(pdf)"
   ]
  },
  {
   "cell_type": "markdown",
   "id": "1bd2273c-9068-4cee-afc0-8281a349c4fb",
   "metadata": {},
   "source": [
    "### GGN"
   ]
  },
  {
   "cell_type": "code",
   "execution_count": null,
   "id": "f3d16d78-66db-4e32-9dcc-264c588a5707",
   "metadata": {},
   "outputs": [],
   "source": [
    "model = MLP(\n",
    "    layers=[3, 64, 2],\n",
    "    rngs=nnx.Rngs(params=0),\n",
    "    prob_out=False,\n",
    ")"
   ]
  },
  {
   "cell_type": "code",
   "execution_count": null,
   "id": "3e8f3e8d-9ca9-4c78-8d05-00f2c6fb3e12",
   "metadata": {},
   "outputs": [],
   "source": [
    "train_samples = jax.random.uniform(rng_key, (10, model.shape[0]))\n",
    "train_targets = jax.random.uniform(rng_key, (10, model.shape[1]))"
   ]
  },
  {
   "cell_type": "code",
   "execution_count": null,
   "id": "c792779e-0fea-4152-87ba-d03cf29c823c",
   "metadata": {},
   "outputs": [],
   "source": [
    "ggn_mv = ggn(\n",
    "    model=model,\n",
    "    train_data=(train_samples, train_targets),\n",
    "    likelihood_density=MultivariateNormal, \n",
    "    cov=DiagOperator(jnp.array(1.0), model.shape[1])\n",
    ")"
   ]
  },
  {
   "cell_type": "code",
   "execution_count": null,
   "id": "7cee5e12-2e2c-4861-bc7f-72239a55e924",
   "metadata": {},
   "outputs": [],
   "source": [
    "graph_def, params = nnx.split(model)\n",
    "num_params = sum(x.size for x in jax.tree.leaves(params))\n",
    "\n",
    "def model_fn(input, params):\n",
    "    return nnx.call((graph_def, params))(input)[0]"
   ]
  },
  {
   "cell_type": "code",
   "execution_count": null,
   "id": "54566055-3b30-41a6-a420-f7c0db0bc333",
   "metadata": {},
   "outputs": [],
   "source": [
    "ggn_mv_test = create_ggn_mv(\n",
    "    model_fn,\n",
    "    params,\n",
    "    {\n",
    "        'input': train_samples,\n",
    "        'target': train_targets\n",
    "    },\n",
    "    loss_fn=\"mse\",\n",
    "    num_curv_samples=train_samples.shape[0],\n",
    "    num_total_samples=train_samples.shape[0] // 2,\n",
    ")"
   ]
  },
  {
   "cell_type": "code",
   "execution_count": null,
   "id": "2dfa94f7-7b51-412c-9237-6a2c32f47d10",
   "metadata": {
    "scrolled": true
   },
   "outputs": [],
   "source": [
    "ggn_mv(params)"
   ]
  },
  {
   "cell_type": "code",
   "execution_count": null,
   "id": "a665b43e-2637-4957-ba7f-78e2df62dbff",
   "metadata": {
    "scrolled": true
   },
   "outputs": [],
   "source": [
    "ggn_mv_test(params)"
   ]
  },
  {
   "cell_type": "code",
   "execution_count": null,
   "id": "a1a03bf6-3dc4-4571-9707-0e45254a377f",
   "metadata": {
    "scrolled": true
   },
   "outputs": [],
   "source": [
    "from laplax.curv.cov import create_posterior_fn, create_full_curvature\n",
    "from laplax.util.flatten import (\n",
    "    create_pytree_flattener,\n",
    "    wrap_factory,\n",
    "    wrap_function,\n",
    ")\n",
    "from laplax.util.mv import diagonal, to_dense\n",
    "from laplax.util.tree import get_size, eye_like\n",
    "\n",
    "flatten, unflatten = create_pytree_flattener(params)\n",
    "mv_wrapped = wrap_function(ggn_mv, input_fn=unflatten, output_fn=flatten)\n",
    "to_dense(mv_wrapped, layout=get_size(params))"
   ]
  },
  {
   "cell_type": "code",
   "execution_count": null,
   "id": "97537823-1123-4690-b647-4e591a0c6ff1",
   "metadata": {
    "scrolled": true
   },
   "outputs": [],
   "source": [
    "num_params = sum(x.size for x in jax.tree.leaves(params))\n",
    "eye_pytree = array_to_pytree(jnp.eye(num_params), params)\n",
    "pytree_to_array(jax.lax.map(ggn_mv, eye_pytree, batch_size=None), axis=0)"
   ]
  },
  {
   "cell_type": "code",
   "execution_count": null,
   "id": "a15360e6-1f09-43df-84d7-0102171228ef",
   "metadata": {},
   "outputs": [],
   "source": [
    "from functools import partial\n",
    "\n",
    "p = lambda f: MultivariateNormal(f, cov=DiagOperator(1.0, model.shape[1]))\n",
    "\n",
    "@partial(jax.custom_jvp, nondiff_argnums=(0,1))\n",
    "def neg_logll(p, y, f):\n",
    "    return jax.vmap(lambda y, f: -p(f)._logpdf(y), in_axes=(0,0))(y, f).sum()\n",
    "\n",
    "@partial(jax.custom_jvp, nondiff_argnums=(0,1,3))\n",
    "@neg_logll.defjvp\n",
    "def neg_logll_jvp(p, y, primals, tangents):\n",
    "    f = primals[0]\n",
    "    v = tangents[0]\n",
    "    return neg_logll(p, y, f), jax.vmap(lambda y, f, v: -p(f)._logpdf_jvp_mean(y, v), in_axes=(0,0,0))(y, f, v).sum()\n",
    "\n",
    "@neg_logll_jvp.defjvp\n",
    "def neg_logll_hvp(p, y, tangents, primals_new, tangents_new):\n",
    "    f = primals_new[0]\n",
    "    v = tangents_new[0]\n",
    "    return neg_logll(p, y, f), jax.vmap(lambda y, f, v: -p(f)._logpdf_hvp_mean(y, v), in_axes=(0,0,0))(y, f, v).sum()"
   ]
  },
  {
   "cell_type": "code",
   "execution_count": null,
   "id": "7b11c45d-77a8-4f77-8587-d3e47fc678b5",
   "metadata": {},
   "outputs": [],
   "source": [
    "v = jax.random.uniform(rng_key, (10, model.shape[1]))"
   ]
  },
  {
   "cell_type": "code",
   "execution_count": null,
   "id": "86ea8383-41ca-45c3-9d45-e7d909210cc3",
   "metadata": {
    "scrolled": true
   },
   "outputs": [],
   "source": [
    "jax.jvp(lambda f: neg_logll(p, train_targets, f), (model(train_samples),), (v,))"
   ]
  },
  {
   "cell_type": "code",
   "execution_count": null,
   "id": "654b0619-13de-4543-bdc9-d8af70700f4c",
   "metadata": {},
   "outputs": [],
   "source": [
    "model(train_samples)"
   ]
  },
  {
   "cell_type": "code",
   "execution_count": null,
   "id": "ca4efac6-ad2b-440a-a910-81830d0d2977",
   "metadata": {},
   "outputs": [],
   "source": [
    "jax.grad(neg_logll_jvp, 2)(p, train_targets, model(train_samples), v)"
   ]
  },
  {
   "cell_type": "code",
   "execution_count": null,
   "id": "78f48c5e-8975-42c8-8e12-0a3eda5ae542",
   "metadata": {},
   "outputs": [],
   "source": [
    "jax.jacfwd(jax.jacrev(neg_logll,2),2)(p, train_targets, model(train_samples))"
   ]
  },
  {
   "cell_type": "code",
   "execution_count": null,
   "id": "8f81fe63-f62b-45c1-a9a9-702ef6b0691b",
   "metadata": {},
   "outputs": [],
   "source": [
    "jax.grad(neg_logll, 2)(p, train_targets, model(train_samples))"
   ]
  },
  {
   "cell_type": "code",
   "execution_count": null,
   "id": "006e53b4-149e-4543-89f9-341679778087",
   "metadata": {},
   "outputs": [],
   "source": [
    "v = jax.random.uniform(rng_key, (10,model.shape[1]))\n",
    "neg_logll_jvp(p, train_targets, (model(train_samples),), (v,))"
   ]
  },
  {
   "cell_type": "code",
   "execution_count": null,
   "id": "5926c7ea-110a-48c4-8507-ef2ced77cc14",
   "metadata": {},
   "outputs": [],
   "source": [
    "neg_logll_hvp(p, train_targets, (model(train_samples),), (v,))"
   ]
  },
  {
   "cell_type": "code",
   "execution_count": null,
   "id": "6ba77592-8eba-406b-8a36-473aaf6ecedb",
   "metadata": {},
   "outputs": [],
   "source": [
    "graph_def, map_params = nnx.split(model)\n",
    "def model_fn(params):\n",
    "    return nnx.call((graph_def, params))(train_samples)[0]\n",
    "\n",
    "def ggn(vec):\n",
    "    _, jvp = jax.linearize(model_fn, map_params)\n",
    "    HJv = neg_logll_hvp(p, train_targets, (model_fn(params),), (jvp(vec),))[1]\n",
    "    return jax.linear_transpose(jvp, vec)(HJv)[0]\n",
    "    # return HJv"
   ]
  },
  {
   "cell_type": "code",
   "execution_count": null,
   "id": "6e71e7e6-6c0f-4806-a2ac-52e2a3bad4f3",
   "metadata": {},
   "outputs": [],
   "source": [
    "ggn(map_params)"
   ]
  },
  {
   "cell_type": "code",
   "execution_count": null,
   "id": "09c59cd1-35d3-4302-8875-98a33c4e458e",
   "metadata": {},
   "outputs": [],
   "source": []
  }
 ],
 "metadata": {
  "kernelspec": {
   "display_name": "Python 3 (ipykernel)",
   "language": "python",
   "name": "python3"
  },
  "language_info": {
   "codemirror_mode": {
    "name": "ipython",
    "version": 3
   },
   "file_extension": ".py",
   "mimetype": "text/x-python",
   "name": "python",
   "nbconvert_exporter": "python",
   "pygments_lexer": "ipython3",
   "version": "3.12.9"
  }
 },
 "nbformat": 4,
 "nbformat_minor": 5
}
