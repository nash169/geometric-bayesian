{
 "cells": [
  {
   "cell_type": "code",
   "execution_count": null,
   "id": "dfcaad82-1950-4e0f-ba5b-91d2a044044e",
   "metadata": {},
   "outputs": [],
   "source": [
    "%load_ext autoreload\n",
    "%autoreload 2\n",
    "    \n",
    "import os\n",
    "import sys\n",
    "import time\n",
    "import glob\n",
    "import gc\n",
    "\n",
    "import jax\n",
    "import jax.numpy as jnp\n",
    "from flax import nnx\n",
    "from jax import grad, jit, vmap, random\n",
    "import optax\n",
    "import matplotlib.pyplot as plt\n",
    "\n",
    "sys.path.insert(0, os.path.abspath(os.path.join('../')))"
   ]
  },
  {
   "cell_type": "code",
   "execution_count": null,
   "id": "c6fbb76f-8dbc-43c1-ba37-44f324d4281f",
   "metadata": {},
   "outputs": [],
   "source": [
    "from geometric_bayesian.utils import DataLoader, plot_regression\n",
    "rng_key = jax.random.key(0)\n",
    "num_training_samples = 150\n",
    "batch_size = 20\n",
    "sigma_noise=0.3\n",
    "\n",
    "# Split RNG key for reproducibility\n",
    "rng_key, rng_noise = random.split(rng_key)\n",
    "\n",
    "# Generate random training data\n",
    "X_train = (\n",
    "    random.uniform(rng_key, (num_training_samples, 1)) * 10\n",
    ") \n",
    "noise = random.normal(rng_noise, X_train.shape) * sigma_noise\n",
    "y_train = jnp.sin(X_train) + noise\n",
    "\n",
    "# Generate testing data\n",
    "X_test = jnp.linspace(-5, 15, 500).reshape(-1, 1)\n",
    "y_test = jnp.sin(X_test)\n",
    "\n",
    "# Create the training data loader\n",
    "train_loader = DataLoader(X_train, y_train.squeeze(), batch_size)"
   ]
  },
  {
   "cell_type": "code",
   "execution_count": null,
   "id": "e9cb1204-2aea-460a-8593-f12b8cfbdce1",
   "metadata": {},
   "outputs": [],
   "source": [
    "from geometric_bayesian.models import MLP\n",
    "model = MLP(\n",
    "    layers=[1,64,1],\n",
    ")\n",
    "num_params = model.size"
   ]
  },
  {
   "cell_type": "code",
   "execution_count": null,
   "id": "b3d3398c-ce81-4cec-8c61-2b012467eb0a",
   "metadata": {},
   "outputs": [],
   "source": [
    "fig = plot_regression(model, X_test, y_test, X_train, y_train)"
   ]
  },
  {
   "cell_type": "code",
   "execution_count": null,
   "id": "74612a50-44be-41a2-a246-4117aad86235",
   "metadata": {},
   "outputs": [],
   "source": [
    "n_epochs = 1000\n",
    "step_size = 1e-2\n",
    "\n",
    "optimizer = nnx.Optimizer(model, optax.adam(step_size))\n",
    "\n",
    "def criterion(x, y):\n",
    "    return jnp.mean((x - y) ** 2)\n",
    "\n",
    "@nnx.jit\n",
    "def train_step(model, optimizer, x, y):\n",
    "    def loss_fn(model: MLP):\n",
    "        y_pred = model(x)\n",
    "        return criterion(y, y_pred)\n",
    "\n",
    "    loss, grads = nnx.value_and_grad(loss_fn)(model)\n",
    "    optimizer.update(grads) \n",
    "\n",
    "    return loss"
   ]
  },
  {
   "cell_type": "code",
   "execution_count": null,
   "id": "5b8fc10e-9976-46b4-acd2-0da370f48727",
   "metadata": {},
   "outputs": [],
   "source": [
    "losses = []\n",
    "for epoch in range(n_epochs):\n",
    "    for x_tr, y_tr in train_loader:\n",
    "        losses.append(train_step(model, optimizer, x_tr, y_tr))\n",
    "\n",
    "    if epoch % 100 == 0:\n",
    "        print(f\"[epoch {epoch}]: loss: {losses[-1]:.4f}\")\n",
    "\n",
    "print(f'{optimizer.step.value = }')\n",
    "print(f\"Final loss: {losses[-1]:.4f}\")"
   ]
  },
  {
   "cell_type": "code",
   "execution_count": null,
   "id": "05fe3c5f-5022-4cb4-b317-78340013d971",
   "metadata": {
    "scrolled": true
   },
   "outputs": [],
   "source": [
    "fig = plot_regression(model, X_test, y_test, X_train, y_train)"
   ]
  },
  {
   "cell_type": "code",
   "execution_count": null,
   "id": "4fd329bb-b501-40f8-b872-370877416904",
   "metadata": {},
   "outputs": [],
   "source": [
    "from geometric_bayesian.densities import Bernoulli, MultivariateNormal\n",
    "from geometric_bayesian.functions.likelihood import neg_logll\n",
    "from geometric_bayesian.operators import DiagOperator\n",
    "\n",
    "p_ll = lambda f : Bernoulli(f, logits=True)\n",
    "prior_var = DiagOperator(\n",
    "    diag = jnp.array(10.), \n",
    "    dim = num_params\n",
    ")\n",
    "p_prior = MultivariateNormal(cov=prior_var)"
   ]
  },
  {
   "cell_type": "code",
   "execution_count": null,
   "id": "52cb3972-32a7-4cef-ad62-d98f3a1895c7",
   "metadata": {
    "scrolled": true
   },
   "outputs": [],
   "source": [
    "from geometric_bayesian.densities import MultivariateNormal\n",
    "from geometric_bayesian.operators import DiagOperator\n",
    "\n",
    "MultivariateNormal(model(X_train).squeeze(), DiagOperator(jnp.array(1.0), len(y_train)))._log(y_train)"
   ]
  },
  {
   "cell_type": "code",
   "execution_count": null,
   "id": "56625d60-0d5e-4355-801e-151c9dc0f3c7",
   "metadata": {},
   "outputs": [],
   "source": [
    "ggn_mv = ggn(\n",
    "    model=model,\n",
    "    train_data=(X_train, y_train),\n",
    "    likelihood_density=Normal, \n",
    "    cov=jnp.array(1.0)\n",
    ")"
   ]
  },
  {
   "cell_type": "code",
   "execution_count": null,
   "id": "3da3066c-0765-44ec-bb77-dc84c476d23c",
   "metadata": {},
   "outputs": [],
   "source": [
    "graph_def, map_params = nnx.split(model)\n",
    "def model_fn(input, params):\n",
    "    return nnx.call((graph_def, params))(input)[0]"
   ]
  },
  {
   "cell_type": "code",
   "execution_count": null,
   "id": "7c1347e4-0ca3-40a8-84db-31a082df537f",
   "metadata": {},
   "outputs": [],
   "source": [
    "num_params = sum(x.size for x in jax.tree.leaves(map_params))\n",
    "eye_pytree = array_to_pytree(jnp.eye(num_params), map_params)\n",
    "# precision = pytree_to_array(jax.lax.map(ggn_mv, eye_pytree, batch_size=None),axis=0)"
   ]
  },
  {
   "cell_type": "code",
   "execution_count": null,
   "id": "a3a3f6b6-2c20-4795-b2dc-556e99fc28c2",
   "metadata": {},
   "outputs": [],
   "source": [
    "from geometric_bayesian.types import Vector, Matrix\n",
    "\n",
    "def pf_jvp(input: Vector | Matrix, vector: Vector) -> Vector | Matrix:\n",
    "    return jax.jvp(\n",
    "        lambda p: model_fn(input=input, params=p),\n",
    "        (map_params,),\n",
    "        (vector,),\n",
    "    )[1]\n",
    "\n",
    "def pf_vjp(input: Vector | Matrix, vector: Vector | Matrix) -> Vector | Matrix:\n",
    "    out, vjp_fun = jax.vjp(\n",
    "        lambda p: model_fn(input=input, params=p), map_params\n",
    "    )\n",
    "    return vjp_fun(vector)"
   ]
  },
  {
   "cell_type": "code",
   "execution_count": null,
   "id": "bc1f7074-56b2-41f9-b03f-3b70e366d50b",
   "metadata": {},
   "outputs": [],
   "source": [
    "grad_net = jax.lax.map(lambda p : pf_jvp(X_test[0], p), eye_pytree, batch_size=None).squeeze()"
   ]
  },
  {
   "cell_type": "code",
   "execution_count": null,
   "id": "c95930bf-eebc-4183-a59f-dab9213654da",
   "metadata": {},
   "outputs": [],
   "source": [
    "pf_jvp(X_test[0], ggn_mv(pf_vjp(X_test[0],jnp.array([1.0]))[0]))"
   ]
  },
  {
   "cell_type": "code",
   "execution_count": null,
   "id": "3e07440d-315c-4c62-828c-c9a783e529a5",
   "metadata": {},
   "outputs": [],
   "source": [
    "tmp, _ = jax.tree.flatten(eye_pytree)"
   ]
  },
  {
   "cell_type": "code",
   "execution_count": null,
   "id": "24bfe021-7fd9-4fb4-8f18-e30ced1ff146",
   "metadata": {},
   "outputs": [],
   "source": [
    "tmp[0].shape"
   ]
  },
  {
   "cell_type": "code",
   "execution_count": null,
   "id": "b572cb33-7fe5-4b89-8788-899281a43f32",
   "metadata": {},
   "outputs": [],
   "source": [
    "pf_jvp(X_test[0],eye_pytree)"
   ]
  },
  {
   "cell_type": "code",
   "execution_count": null,
   "id": "3b35bdaf-ade3-453e-9611-93b49860bff1",
   "metadata": {},
   "outputs": [],
   "source": []
  }
 ],
 "metadata": {
  "kernelspec": {
   "display_name": "Python 3 (ipykernel)",
   "language": "python",
   "name": "python3"
  },
  "language_info": {
   "codemirror_mode": {
    "name": "ipython",
    "version": 3
   },
   "file_extension": ".py",
   "mimetype": "text/x-python",
   "name": "python",
   "nbconvert_exporter": "python",
   "pygments_lexer": "ipython3",
   "version": "3.11.13"
  }
 },
 "nbformat": 4,
 "nbformat_minor": 5
}
